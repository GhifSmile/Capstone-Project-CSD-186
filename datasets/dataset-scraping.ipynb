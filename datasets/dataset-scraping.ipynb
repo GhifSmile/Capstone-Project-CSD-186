{
  "nbformat": 4,
  "nbformat_minor": 0,
  "metadata": {
    "colab": {
      "name": "dataset.ipynb",
      "private_outputs": true,
      "provenance": [],
      "collapsed_sections": [
        "ZP9u1B_p98Uv",
        "CrMiH5-WICIm",
        "8sHKibsXsb4t",
        "I8PE7OwVsgWh",
        "TtgHUmHMN7tz",
        "cXvqe3GZbp2S"
      ]
    },
    "kernelspec": {
      "name": "python3",
      "display_name": "Python 3"
    },
    "language_info": {
      "name": "python"
    },
    "accelerator": "GPU"
  },
  "cells": [
    {
      "cell_type": "code",
      "metadata": {
        "id": "8Zx0O006w9WK"
      },
      "source": [
        "!git"
      ],
      "execution_count": null,
      "outputs": []
    },
    {
      "cell_type": "code",
      "metadata": {
        "id": "U7Ck2hr_xCPO"
      },
      "source": [
        "!git init"
      ],
      "execution_count": null,
      "outputs": []
    },
    {
      "cell_type": "code",
      "metadata": {
        "id": "FJHGLIl3xJ3X"
      },
      "source": [
        "!git clone https://github.com/foykes/gsm-arena-dataset"
      ],
      "execution_count": null,
      "outputs": []
    },
    {
      "cell_type": "code",
      "metadata": {
        "id": "GW_jszGWxX7m"
      },
      "source": [
        "%cd gsm-arena-dataset/"
      ],
      "execution_count": null,
      "outputs": []
    },
    {
      "cell_type": "code",
      "metadata": {
        "id": "shx6h5HexbkX"
      },
      "source": [
        "import pandas as pd\n",
        "\n",
        "data = pd.read_csv(\"/content/gsm-arena-dataset/gsm_arena_full_dataset.csv\")"
      ],
      "execution_count": null,
      "outputs": []
    },
    {
      "cell_type": "code",
      "metadata": {
        "id": "d-_yFI_Txo6J"
      },
      "source": [
        "data.head()"
      ],
      "execution_count": null,
      "outputs": []
    },
    {
      "cell_type": "code",
      "metadata": {
        "id": "FTzZvKyJX8xW"
      },
      "source": [
        "list(data)"
      ],
      "execution_count": null,
      "outputs": []
    },
    {
      "cell_type": "code",
      "metadata": {
        "id": "JNw-V6st1r2o"
      },
      "source": [
        "data.shape"
      ],
      "execution_count": null,
      "outputs": []
    },
    {
      "cell_type": "code",
      "metadata": {
        "id": "zekOuN_A1Hm4"
      },
      "source": [
        "li = [\"Brand\", \"Model Name\", \"Model Image\", \"Weight\", \"Resolution\", \"Internal\",\"Type_1\", \"Price\"]\n",
        "new_dataset = data[li].copy()"
      ],
      "execution_count": null,
      "outputs": []
    },
    {
      "cell_type": "code",
      "metadata": {
        "id": "oYSkToU-5-qH"
      },
      "source": [
        "new_dataset"
      ],
      "execution_count": null,
      "outputs": []
    },
    {
      "cell_type": "code",
      "metadata": {
        "id": "s12N-j_Y645Y"
      },
      "source": [
        "new_dataset.info()"
      ],
      "execution_count": null,
      "outputs": []
    },
    {
      "cell_type": "code",
      "metadata": {
        "id": "HyFYq7tL6P_g"
      },
      "source": [
        "new_dataset.describe()"
      ],
      "execution_count": null,
      "outputs": []
    },
    {
      "cell_type": "code",
      "metadata": {
        "id": "6rpzHk9q7VyA"
      },
      "source": [
        "new_dataset.isnull().sum()"
      ],
      "execution_count": null,
      "outputs": []
    },
    {
      "cell_type": "code",
      "metadata": {
        "id": "4QnCGkaV7oQO"
      },
      "source": [
        "new_dataset = new_dataset.dropna()"
      ],
      "execution_count": null,
      "outputs": []
    },
    {
      "cell_type": "code",
      "metadata": {
        "id": "9lf4YHsN7sv2"
      },
      "source": [
        "new_dataset.isnull().sum()"
      ],
      "execution_count": null,
      "outputs": []
    },
    {
      "cell_type": "code",
      "metadata": {
        "id": "SYyTCIVB7vpm"
      },
      "source": [
        "print('Banyak akumulasi brand', len(new_dataset.Brand.unique()))\n",
        "print('Brand', new_dataset.Brand.unique())"
      ],
      "execution_count": null,
      "outputs": []
    },
    {
      "cell_type": "code",
      "metadata": {
        "id": "eitz7QJx8LSv"
      },
      "source": [
        "print('Banyak akumulasi model name', len(new_dataset[\"Model Name\"].unique()))\n",
        "print('model name', new_dataset[\"Model Name\"].unique())"
      ],
      "execution_count": null,
      "outputs": []
    },
    {
      "cell_type": "code",
      "metadata": {
        "id": "8XPPs_cg8ed_"
      },
      "source": [
        "(new_dataset['Weight']==\"b'-'\").sum()"
      ],
      "execution_count": null,
      "outputs": []
    },
    {
      "cell_type": "code",
      "metadata": {
        "id": "CFWfHVOP8thA"
      },
      "source": [
        "new_dataset.head()"
      ],
      "execution_count": null,
      "outputs": []
    },
    {
      "cell_type": "code",
      "metadata": {
        "id": "snOMyAof9WaG"
      },
      "source": [
        "new_dataset = new_dataset.loc[(new_dataset['Weight']!=\"b'-'\")]"
      ],
      "execution_count": null,
      "outputs": []
    },
    {
      "cell_type": "code",
      "metadata": {
        "id": "6OPyWvAE9k9n"
      },
      "source": [
        "new_dataset.shape"
      ],
      "execution_count": null,
      "outputs": []
    },
    {
      "cell_type": "code",
      "metadata": {
        "id": "BMf7HnQ79qXn"
      },
      "source": [
        "new_dataset.head(100)"
      ],
      "execution_count": null,
      "outputs": []
    },
    {
      "cell_type": "code",
      "source": [
        "new_dataset  = new_dataset.loc[(new_dataset['Internal'].str[-3]==\"A\")]"
      ],
      "metadata": {
        "id": "vWbYcG2Jkhyo"
      },
      "execution_count": null,
      "outputs": []
    },
    {
      "cell_type": "code",
      "source": [
        "new_dataset"
      ],
      "metadata": {
        "id": "6cr3nvb3mg9Y"
      },
      "execution_count": null,
      "outputs": []
    },
    {
      "cell_type": "code",
      "source": [
        "# Ngilangin ASCII pada price\n",
        "new_dataset = new_dataset.loc[(new_dataset['Price'].str[0:3]==\"b'A\")]"
      ],
      "metadata": {
        "id": "ybFiNLVciZoa"
      },
      "execution_count": null,
      "outputs": []
    },
    {
      "cell_type": "code",
      "source": [
        "new_dataset"
      ],
      "metadata": {
        "id": "uD5EMxpgsN9O"
      },
      "execution_count": null,
      "outputs": []
    },
    {
      "cell_type": "code",
      "metadata": {
        "id": "XXHkEhfjB9mA"
      },
      "source": [
        "new_dataset.isnull().sum()"
      ],
      "execution_count": null,
      "outputs": []
    },
    {
      "cell_type": "code",
      "metadata": {
        "id": "VpQzL5Yf-MAX"
      },
      "source": [
        "brand = new_dataset[\"Brand\"].str[2:-1].values.tolist()\n",
        "model_name = new_dataset[\"Model Name\"].str[2:-1].values.tolist()\n",
        "model_image = new_dataset['Model Image'].str[2:-1].values.tolist()\n",
        "weight = new_dataset['Weight'].str[2:-1].values.tolist()\n",
        "resolution = new_dataset[\"Resolution\"].str[2:-1].values.tolist()\n",
        "memori = new_dataset[\"Internal\"].str[2:-1].values.tolist()\n",
        "baterai = new_dataset[\"Type_1\"].str[2:-1].values.tolist()\n",
        "harga = new_dataset[\"Price\"].str[2:-1].values.tolist()"
      ],
      "execution_count": null,
      "outputs": []
    },
    {
      "cell_type": "markdown",
      "source": [
        "# Bagian Bang Danil"
      ],
      "metadata": {
        "id": "HcK9vkyj0Z0v"
      }
    },
    {
      "cell_type": "markdown",
      "source": [
        "### Harga"
      ],
      "metadata": {
        "id": "ZP9u1B_p98Uv"
      }
    },
    {
      "cell_type": "code",
      "source": [
        "harga"
      ],
      "metadata": {
        "id": "47czQtDUsB9G"
      },
      "execution_count": null,
      "outputs": []
    },
    {
      "cell_type": "code",
      "source": [
        "df_price = pd.DataFrame(harga, columns = ['Harga'])\n",
        "df_price"
      ],
      "metadata": {
        "id": "AOvqC3EF-AAc"
      },
      "execution_count": null,
      "outputs": []
    },
    {
      "cell_type": "code",
      "source": [
        "df_price = df_price['Harga'].str[6:].values"
      ],
      "metadata": {
        "id": "Gb3hdO-u_6kr"
      },
      "execution_count": null,
      "outputs": []
    },
    {
      "cell_type": "code",
      "source": [
        "df_price"
      ],
      "metadata": {
        "id": "lySIVvHZAhBV"
      },
      "execution_count": null,
      "outputs": []
    },
    {
      "cell_type": "code",
      "source": [
        "df_price1 = pd.DataFrame(df_price, columns=['Harga'])\n",
        "df_price1"
      ],
      "metadata": {
        "id": "-22NXH7WD1rV"
      },
      "execution_count": null,
      "outputs": []
    },
    {
      "cell_type": "markdown",
      "source": [
        "INR to USD"
      ],
      "metadata": {
        "id": "ZH7HKIeoDDqP"
      }
    },
    {
      "cell_type": "code",
      "source": [
        "INR = df_price1['Harga'][df_price1['Harga'].str.contains('INR')]\n",
        "INR = INR.str.replace(' INR','')\n",
        "INR = pd.to_numeric(INR)\n",
        "INR"
      ],
      "metadata": {
        "id": "lqu42lQCDHCU"
      },
      "execution_count": null,
      "outputs": []
    },
    {
      "cell_type": "code",
      "source": [
        "INR = INR*0.013\n",
        "INR"
      ],
      "metadata": {
        "id": "NSFi9zatEsQk"
      },
      "execution_count": null,
      "outputs": []
    },
    {
      "cell_type": "markdown",
      "source": [
        "EUR to USD"
      ],
      "metadata": {
        "id": "biNPq0M6FO4O"
      }
    },
    {
      "cell_type": "code",
      "source": [
        "EUR = df_price1['Harga'][df_price1['Harga'].str.contains('EUR')]\n",
        "EUR = EUR.str.replace(' EUR','')\n",
        "EUR = pd.to_numeric(EUR)\n",
        "EUR"
      ],
      "metadata": {
        "id": "Sim6m8E1FaLt"
      },
      "execution_count": null,
      "outputs": []
    },
    {
      "cell_type": "code",
      "source": [
        "EUR = EUR*1.13\n",
        "EUR"
      ],
      "metadata": {
        "id": "5uV9BB1fFaTr"
      },
      "execution_count": null,
      "outputs": []
    },
    {
      "cell_type": "markdown",
      "source": [
        "Gabung menjadi 1 dataframe"
      ],
      "metadata": {
        "id": "Gh7eRxClGqqf"
      }
    },
    {
      "cell_type": "code",
      "source": [
        "PRICE = [None for i in range(3881)]\n",
        "def set_price(data):\n",
        "    for index in data.index:\n",
        "        try:\n",
        "            PRICE[index] = data.loc[index]\n",
        "        except:\n",
        "            print(index)\n",
        "set_price(EUR)\n",
        "set_price(INR)\n",
        "\n",
        "df_price_final = PRICE\n",
        "df_price_final"
      ],
      "metadata": {
        "id": "_QENtzVQGsx2"
      },
      "execution_count": null,
      "outputs": []
    },
    {
      "cell_type": "code",
      "source": [
        "df_price_final = pd.DataFrame(df_price_final, columns=['Harga'])\n",
        "df_price_final"
      ],
      "metadata": {
        "id": "qajc00j0HuR1"
      },
      "execution_count": null,
      "outputs": []
    },
    {
      "cell_type": "markdown",
      "source": [
        "### Battery"
      ],
      "metadata": {
        "id": "CrMiH5-WICIm"
      }
    },
    {
      "cell_type": "code",
      "source": [
        "baterai"
      ],
      "metadata": {
        "id": "n5_bLtdRIIkw"
      },
      "execution_count": null,
      "outputs": []
    },
    {
      "cell_type": "markdown",
      "source": [
        "Membuat kolom baterai"
      ],
      "metadata": {
        "id": "Qh6N0U_AKx22"
      }
    },
    {
      "cell_type": "code",
      "source": [
        "df_capacity = pd.DataFrame(baterai, columns = ['Capacity'])\n",
        "df_capacity"
      ],
      "metadata": {
        "id": "bdJZQGZcK2v1"
      },
      "execution_count": null,
      "outputs": []
    },
    {
      "cell_type": "code",
      "source": [
        "df_capacity1 = df_capacity['Capacity'].str.replace(', non-removable','')\n",
        "df_capacity1"
      ],
      "metadata": {
        "id": "mjG-B9puYEf9"
      },
      "execution_count": null,
      "outputs": []
    },
    {
      "cell_type": "code",
      "source": [
        "df_capacity2 = df_capacity1.str.replace('Li-Po','')\n",
        "df_capacity3 = df_capacity2.str.replace('Li-Ion','')\n",
        "df_capacity4 = df_capacity3.str.replace('battery','')\n",
        "df_capacity5 = df_capacity4.str.replace('Removable','')\n",
        "df_capacity6 = df_capacity5.str.replace('removable','')\n",
        "df_capacity7 = df_capacity6.str.replace(', ','')\n",
        "df_capacity8 = df_capacity7.str.replace(' ','')\n",
        "df_capacity9 = df_capacity8.str.replace('mAh','')\n",
        "df_capacity10 = df_capacity9.str.replace('Li-ion','')\n",
        "df_capacity10 = pd.DataFrame(df_capacity10, columns = ['Capacity'])\n",
        "#df_capacity9 = pd.to_numeric(df_capacity9)\n",
        "df_capacity10"
      ],
      "metadata": {
        "id": "dQqYGBeHb_LV"
      },
      "execution_count": null,
      "outputs": []
    },
    {
      "cell_type": "markdown",
      "source": [
        "(Wh)"
      ],
      "metadata": {
        "id": "yZ4iIiXrd23q"
      }
    },
    {
      "cell_type": "code",
      "source": [
        "wh = df_capacity10[df_capacity10[\"Capacity\"].str.contains('Wh')]\n",
        "wh"
      ],
      "metadata": {
        "id": "hwMVEmPSd57b"
      },
      "execution_count": null,
      "outputs": []
    },
    {
      "cell_type": "code",
      "source": [
        "wh1 = wh['Capacity'].str.replace('Non-','')\n",
        "wh2 = wh1\n",
        "for index in wh1.index:\n",
        "  split_string = wh1[index].split(\"(\", 1)\n",
        "  wh2[index] = split_string[0]\n",
        "wh3 = wh2.str.replace(',','')\n",
        "wh4 = pd.to_numeric(wh3)\n",
        "wh4\n",
        "#whlist = wh4.values.tolist()\n",
        "#whlist"
      ],
      "metadata": {
        "id": "TH0wb_56ipBX"
      },
      "execution_count": null,
      "outputs": []
    },
    {
      "cell_type": "markdown",
      "source": [
        "no Wh"
      ],
      "metadata": {
        "id": "8nSYd_fTGIP7"
      }
    },
    {
      "cell_type": "code",
      "source": [
        "no_wh = df_capacity10[~df_capacity10[\"Capacity\"].str.contains('Wh')]\n",
        "no_wh1 = no_wh['Capacity'].str.replace('Non-','')\n",
        "no_wh2 = no_wh1.str.replace(',','')\n",
        "no_wh3 = no_wh2\n",
        "for index in no_wh2.index:\n",
        "  split_string = no_wh2[index].split(\"/\", 1)\n",
        "  no_wh3[index] = split_string[0]\n",
        "\n",
        "no_wh4 = no_wh3\n",
        "for index in no_wh3.index:\n",
        "  split_string = no_wh3[index].split(\"(\", 1)\n",
        "  no_wh4[index] = split_string[0]\n",
        "\n",
        "no_wh5 = no_wh4\n",
        "for index in no_wh4.index:\n",
        "  split_string = no_wh4[index].split(\"or\", 1)\n",
        "  no_wh5[index] = split_string[0]\n",
        "\n",
        "no_wh6 = pd.to_numeric(no_wh5)\n",
        "no_wh6"
      ],
      "metadata": {
        "id": "1ZjKHPKSGJH4"
      },
      "execution_count": null,
      "outputs": []
    },
    {
      "cell_type": "markdown",
      "source": [
        "Gabungkan"
      ],
      "metadata": {
        "id": "Oa4xiTBRJ7Jp"
      }
    },
    {
      "cell_type": "code",
      "source": [
        "capacity = [None for i in range(3881)]\n",
        "def set_capacity(data):\n",
        "    for index in data.index:\n",
        "        try:\n",
        "            capacity[index] = data.loc[index]\n",
        "        except:\n",
        "            print(index)\n",
        "set_capacity(no_wh6)\n",
        "set_capacity(wh4)\n",
        "\n",
        "df_capacity_final1 = capacity"
      ],
      "metadata": {
        "id": "86rk0zZUJ8oP"
      },
      "execution_count": null,
      "outputs": []
    },
    {
      "cell_type": "code",
      "source": [
        "df_capacity_final = pd.DataFrame(df_capacity_final1, columns=['Battery Capacity(mAh)'])\n",
        "df_capacity_final"
      ],
      "metadata": {
        "id": "fh-GZDBmKxb0"
      },
      "execution_count": null,
      "outputs": []
    },
    {
      "cell_type": "markdown",
      "source": [
        "# Bagian Bang Mail"
      ],
      "metadata": {
        "id": "yc0X4Gff0gYO"
      }
    },
    {
      "cell_type": "markdown",
      "source": [
        "### Weight"
      ],
      "metadata": {
        "id": "8sHKibsXsb4t"
      }
    },
    {
      "cell_type": "code",
      "source": [
        "weight_1 = [i[0:5] for i in weight]\n",
        "weight_2 = [i.replace('g','') for i in weight_1]\n",
        "weight_3 = [i.replace(' (','') for i in weight_2]\n",
        "weight_4 = [i.replace('~ ','') for i in weight_3]\n",
        "weight_5 = [i.replace('-2','') for i in weight_4]\n",
        "weight_6 = [i.replace(',','.') for i in weight_5]\n"
      ],
      "metadata": {
        "id": "ReCmdy-alfZQ"
      },
      "execution_count": null,
      "outputs": []
    },
    {
      "cell_type": "code",
      "source": [
        "weight_7 = pd.DataFrame(weight_6, columns=['Weight'])"
      ],
      "metadata": {
        "id": "f71SS0ZJnyVW"
      },
      "execution_count": null,
      "outputs": []
    },
    {
      "cell_type": "code",
      "source": [
        "weight_8 = pd.to_numeric(weight_7['Weight'])\n",
        "weight_9 = weight_8.values.tolist()"
      ],
      "metadata": {
        "id": "1hRtsPRpoUBw"
      },
      "execution_count": null,
      "outputs": []
    },
    {
      "cell_type": "code",
      "source": [
        "weight_final = pd.DataFrame(weight_9, columns=['Weight(g)'])\n",
        "weight_final"
      ],
      "metadata": {
        "id": "NmenaqH-qeXC"
      },
      "execution_count": null,
      "outputs": []
    },
    {
      "cell_type": "markdown",
      "source": [
        "### Resolution"
      ],
      "metadata": {
        "id": "I8PE7OwVsgWh"
      }
    },
    {
      "cell_type": "code",
      "source": [
        "resolution = [i[0:11] for i in resolution]\n",
        "resolution_1 = [i.replace(' p', '') for i in resolution]\n",
        "resolution_2 = [i.replace(' ', '') for i in resolution_1]"
      ],
      "metadata": {
        "id": "hvtEd-HAsf81"
      },
      "execution_count": null,
      "outputs": []
    },
    {
      "cell_type": "code",
      "source": [
        "resolution_2"
      ],
      "metadata": {
        "id": "Epwom5Ykw_rc"
      },
      "execution_count": null,
      "outputs": []
    },
    {
      "cell_type": "code",
      "source": [
        "lebar = [i[0:4] for i in resolution_2]\n",
        "lebar1 = [i.replace('x', '') for i in lebar]\n",
        "lebar1 = [int(i) for i in lebar1]\n",
        "lebar1"
      ],
      "metadata": {
        "id": "6vlTW4U7tNHN"
      },
      "execution_count": null,
      "outputs": []
    },
    {
      "cell_type": "code",
      "source": [
        "panjang = [i[-4:] for i in resolution_2]\n",
        "panjang_1 = [i.replace('x','') for i in panjang]\n",
        "panjang_2 = [i.replace(',','') for i in panjang_1]\n",
        "panjang_2 = [int(i) for i in panjang_2]\n",
        "panjang_2"
      ],
      "metadata": {
        "id": "TFPO1MTZwrSt"
      },
      "execution_count": null,
      "outputs": []
    },
    {
      "cell_type": "code",
      "source": [
        "for i in range(3881):\n",
        "  if lebar1[i] > panjang_2[i]:\n",
        "    c = lebar1[i]\n",
        "    lebar1[i] = panjang_2[i]\n",
        "    panjang_2[i] = c"
      ],
      "metadata": {
        "id": "_PH_TKj-x-_F"
      },
      "execution_count": null,
      "outputs": []
    },
    {
      "cell_type": "markdown",
      "source": [
        "ngebentuk dataframe"
      ],
      "metadata": {
        "id": "XtAG0XXF14lr"
      }
    },
    {
      "cell_type": "code",
      "source": [
        "df = pd.DataFrame(lebar1, columns=['Lebar(px)'])\n",
        "df['Panjang(px)'] = pd.DataFrame(panjang_2)\n",
        "df"
      ],
      "metadata": {
        "id": "AChdTaWJzxTU"
      },
      "execution_count": null,
      "outputs": []
    },
    {
      "cell_type": "markdown",
      "source": [
        "### Memori"
      ],
      "metadata": {
        "id": "WVwzjsF12ZUs"
      }
    },
    {
      "cell_type": "markdown",
      "source": [
        "#### ROM"
      ],
      "metadata": {
        "id": "TtgHUmHMN7tz"
      }
    },
    {
      "cell_type": "code",
      "source": [
        "memori"
      ],
      "metadata": {
        "id": "484vClJ-2VLm"
      },
      "execution_count": null,
      "outputs": []
    },
    {
      "cell_type": "code",
      "source": [
        "memori = [i.replace(' user available', '') for i in memori]\n",
        "memori"
      ],
      "metadata": {
        "id": "sIz77Y6r2YXD"
      },
      "execution_count": null,
      "outputs": []
    },
    {
      "cell_type": "code",
      "source": [
        "ROM = [i[:5] for i in memori]\n",
        "ROM"
      ],
      "metadata": {
        "id": "2HK2yOtn8uaz"
      },
      "execution_count": null,
      "outputs": []
    },
    {
      "cell_type": "code",
      "source": [
        "df_ROM = pd.DataFrame(ROM, columns=['ROM'])\n",
        "df_ROM"
      ],
      "metadata": {
        "id": "7yhH6oz8GHaS"
      },
      "execution_count": null,
      "outputs": []
    },
    {
      "cell_type": "markdown",
      "source": [
        "GB to MB"
      ],
      "metadata": {
        "id": "53kdR2zZC1Uz"
      }
    },
    {
      "cell_type": "code",
      "source": [
        "GB = df_ROM[df_ROM['ROM'].str.contains('G')]\n",
        "GB['ROM'] = GB['ROM'].astype(str).str[:-1]\n",
        "GB1 = GB['ROM'].str.replace('GB','')\n",
        "GB2 = GB1.str.replace('G','')\n",
        "GB3 = GB2.str.replace(';','')\n",
        "GB4 = GB3.str.replace('/','')\n",
        "GB5 = pd.to_numeric(GB4)\n",
        "#GB to MB\n",
        "GB6 = GB5*1000\n",
        "GB6"
      ],
      "metadata": {
        "id": "nB05DJclFie5"
      },
      "execution_count": null,
      "outputs": []
    },
    {
      "cell_type": "markdown",
      "source": [
        "MB"
      ],
      "metadata": {
        "id": "CM6joOw8Kgzn"
      }
    },
    {
      "cell_type": "code",
      "source": [
        "MB = df_ROM[df_ROM['ROM'].str.contains('M')]\n",
        "MB['ROM'] = MB['ROM'].astype(str).str[:-1]\n",
        "#MB_list = MB.values.tolist()\n",
        "#MB_list\n",
        "MB1 = MB['ROM'].str.replace('MB','')\n",
        "MB2 = MB1.str.replace('Mb','')\n",
        "MB3 = MB2.str.replace('M','')\n",
        "MB4 = MB3.str.replace(' ','')\n",
        "MB5 = pd.to_numeric(MB4)\n",
        "\n",
        "MB5"
      ],
      "metadata": {
        "id": "nUP4RP8OK---"
      },
      "execution_count": null,
      "outputs": []
    },
    {
      "cell_type": "markdown",
      "source": [
        "Gabungin"
      ],
      "metadata": {
        "id": "Sw7sqJtXNLB8"
      }
    },
    {
      "cell_type": "code",
      "source": [
        "rom = [None for i in range(3881)]\n",
        "def set_rom(data):\n",
        "    for index in data.index:\n",
        "        try:\n",
        "            rom[index] = data.loc[index]\n",
        "        except:\n",
        "            print(index)\n",
        "set_rom(GB6)\n",
        "set_rom(MB5)\n",
        "\n",
        "df_ROM_final1 = rom\n",
        "df_ROM_final = pd.DataFrame(df_ROM_final1, columns=['ROM'])\n",
        "df_ROM_final"
      ],
      "metadata": {
        "id": "cws6FeaGNL57"
      },
      "execution_count": null,
      "outputs": []
    },
    {
      "cell_type": "markdown",
      "source": [
        "#### RAM"
      ],
      "metadata": {
        "id": "cXvqe3GZbp2S"
      }
    },
    {
      "cell_type": "code",
      "source": [
        "memori"
      ],
      "metadata": {
        "id": "hwUMUvys7SvL"
      },
      "execution_count": null,
      "outputs": []
    },
    {
      "cell_type": "code",
      "source": [
        "ram = [i.replace(',','') for i in memori]\n",
        "ram = [i.replace(';','') for i in ram]\n",
        "ram = [i.replace('/','') for i in ram]\n",
        "ram = [i.replace('(3G model) 16/32GB (LTE model)','') for i in ram]\n",
        "ram_1 = [i.replace('(3G model) 1632GB (LTE model)','') for i in ram]\n",
        "ram_1"
      ],
      "metadata": {
        "id": "sl_ASZ5N7Yfb"
      },
      "execution_count": null,
      "outputs": []
    },
    {
      "cell_type": "code",
      "source": [
        "ram_2 = []\n",
        "for i in ram_1:\n",
        "  if '(' in i:\n",
        "    a = i.find('(')\n",
        "    b = i.find(')')\n",
        "    ram_2.append(i.replace(i[a:b+1],''))\n",
        "  else:\n",
        "    ram_2.append(i)\n",
        "\n",
        "ram_2"
      ],
      "metadata": {
        "id": "sZhkPAWj7b7U"
      },
      "execution_count": null,
      "outputs": []
    },
    {
      "cell_type": "code",
      "source": [
        "ram_3 = []\n",
        "for i in ram_2:\n",
        "  a = i.replace('ROM', '')\n",
        "  b = a.replace('  ',' ')\n",
        "  ram_3.append(b)\n",
        "\n",
        "ram_3"
      ],
      "metadata": {
        "id": "08wxv0PW7eDj"
      },
      "execution_count": null,
      "outputs": []
    },
    {
      "cell_type": "code",
      "source": [
        "ram_coba = []\n",
        "\n",
        "for i in ram_3:\n",
        "  a = i.find('A')\n",
        "  ram_coba.append(i[:a])\n",
        "\n",
        "len(ram_coba)"
      ],
      "metadata": {
        "id": "DQkAZgZM7gDb"
      },
      "execution_count": null,
      "outputs": []
    },
    {
      "cell_type": "code",
      "source": [
        "ram_4 = []\n",
        "for i in ram_coba:\n",
        "  a = i.split(' ')\n",
        "  if len(a) > 2:\n",
        "    ram_4.append(a[1])\n",
        "  elif len(a) == 2:\n",
        "    ram_4.append(a[0])\n",
        "\n",
        "len(ram_4)"
      ],
      "metadata": {
        "id": "Ze568pw77iob"
      },
      "execution_count": null,
      "outputs": []
    },
    {
      "cell_type": "code",
      "source": [
        "for i,s in enumerate(ram_4):\n",
        "  if 'G' not in s:\n",
        "    if 'M' not in s:\n",
        "      print('index ke',i)\n",
        "      print(s)"
      ],
      "metadata": {
        "id": "pkuTMapL7ksr"
      },
      "execution_count": null,
      "outputs": []
    },
    {
      "cell_type": "code",
      "source": [
        "for i,j in enumerate(ram_4):\n",
        "  if i == 1814:\n",
        "    ram_4[i] = '0.256MB'\n",
        "  elif i == 2076:\n",
        "    ram_4[i] = '512MB'\n",
        "  elif i == 2727:\n",
        "    ram_4[i] = '1GB'\n",
        "  elif i == 2869:\n",
        "    ram_4[i] = '0.384MB'"
      ],
      "metadata": {
        "id": "1uBpZGKG7nlU"
      },
      "execution_count": null,
      "outputs": []
    },
    {
      "cell_type": "code",
      "source": [
        "df_RAM = pd.DataFrame(ram_4, columns=['RAM'])\n",
        "df_RAM"
      ],
      "metadata": {
        "id": "dvm3tVk27qAk"
      },
      "execution_count": null,
      "outputs": []
    },
    {
      "cell_type": "code",
      "source": [
        "GB_ram = df_RAM[df_RAM['RAM'].str.contains('G')]\n",
        "GB_ram['RAM'] = GB_ram['RAM'].astype(str).str[:-1]\n",
        "GB1_ram = GB_ram['RAM'].str.replace('G','')\n",
        "GB2_ram = pd.to_numeric(GB1_ram)\n",
        "#GB to MB\n",
        "GB3_ram = GB2_ram*1000\n",
        "GB3_ram"
      ],
      "metadata": {
        "id": "2S1xSP117r9T"
      },
      "execution_count": null,
      "outputs": []
    },
    {
      "cell_type": "code",
      "source": [
        "MB_ram = df_RAM[df_RAM['RAM'].str.contains('M')]\n",
        "MB_ram['RAM'] = MB_ram['RAM'].astype(str).str[:-1]\n",
        "MB1_ram = MB_ram['RAM'].str.replace('M','')\n",
        "\n",
        "MB2_ram = pd.to_numeric(MB1_ram)\n",
        "MB2_ram"
      ],
      "metadata": {
        "id": "u8DNkxUk7uQT"
      },
      "execution_count": null,
      "outputs": []
    },
    {
      "cell_type": "code",
      "source": [
        "RAM = [None for i in range(3881)]\n",
        "def set_RAM(data):\n",
        "    for index in data.index:\n",
        "        try:\n",
        "            RAM[index] = data.loc[index]\n",
        "        except:\n",
        "            print(index)\n",
        "\n",
        "set_RAM(GB3_ram)\n",
        "set_RAM(MB2_ram)\n",
        "\n",
        "df_RAM_final1 = RAM\n",
        "df_RAM_final = pd.DataFrame(df_RAM_final1, columns=['RAM'])\n",
        "df_RAM_final"
      ],
      "metadata": {
        "id": "7dc3XzhP8Cbr"
      },
      "execution_count": null,
      "outputs": []
    },
    {
      "cell_type": "markdown",
      "source": [
        "### YUK GABUNGIN YUK"
      ],
      "metadata": {
        "id": "6J4eqiYa9vKu"
      }
    },
    {
      "cell_type": "code",
      "source": [
        "df_Smartphone = pd.DataFrame(brand, columns=['Brand'])\n",
        "df_Smartphone['Model Name'] = pd.DataFrame(model_name)\n",
        "df_Smartphone['Model Image'] = pd.DataFrame(model_image)\n",
        "df_Smartphone['Weight(g)'] = weight_final\n",
        "df_Smartphone['Width(px)'] = df['Lebar(px)']\n",
        "df_Smartphone['Height(px)'] = df['Panjang(px)']\n",
        "df_Smartphone['ROM(MB)'] = df_ROM_final\n",
        "df_Smartphone['RAM(MB)'] = df_RAM_final\n",
        "df_Smartphone['Battery Capacity(mAh)'] = df_capacity_final\n",
        "df_Smartphone['Price(USD)'] = df_price_final\n",
        "\n",
        "df_Smartphone"
      ],
      "metadata": {
        "id": "mJpuLJX99xDW"
      },
      "execution_count": null,
      "outputs": []
    },
    {
      "cell_type": "markdown",
      "source": [
        "## Convert Dataframe to .csv file"
      ],
      "metadata": {
        "id": "UMEsJ5A7_-DA"
      }
    },
    {
      "cell_type": "code",
      "source": [
        "df_Smartphone.to_csv(r'/content/smartphone_specs.csv')"
      ],
      "metadata": {
        "id": "Hd6AqioXADjS"
      },
      "execution_count": null,
      "outputs": []
    }
  ]
}