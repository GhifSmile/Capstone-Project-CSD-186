{
  "nbformat": 4,
  "nbformat_minor": 0,
  "metadata": {
    "colab": {
      "name": "model-klasifikasi.ipynb",
      "private_outputs": true,
      "provenance": [],
      "collapsed_sections": []
    },
    "kernelspec": {
      "name": "python3",
      "display_name": "Python 3"
    },
    "language_info": {
      "name": "python"
    },
    "accelerator": "GPU"
  },
  "cells": [
    {
      "cell_type": "code",
      "execution_count": null,
      "metadata": {
        "id": "NCI_WWHBwERC"
      },
      "outputs": [],
      "source": [
        "! pip install kaggle"
      ]
    },
    {
      "cell_type": "code",
      "source": [
        "! mkdir ~/.kaggle"
      ],
      "metadata": {
        "id": "XAp8OfpiwVdN"
      },
      "execution_count": null,
      "outputs": []
    },
    {
      "cell_type": "code",
      "source": [
        "! cp kaggle.json ~/.kaggle/"
      ],
      "metadata": {
        "id": "60xok6UkwVa-"
      },
      "execution_count": null,
      "outputs": []
    },
    {
      "cell_type": "code",
      "source": [
        "! chmod 600 ~/.kaggle/kaggle.json"
      ],
      "metadata": {
        "id": "u-9rpOO1wYUW"
      },
      "execution_count": null,
      "outputs": []
    },
    {
      "cell_type": "code",
      "source": [
        "# Mendownload dan menyiapkan dataset \n",
        "! kaggle datasets download iabhishekofficial/mobile-price-classification"
      ],
      "metadata": {
        "id": "ldBN1h-gwZxm"
      },
      "execution_count": null,
      "outputs": []
    },
    {
      "cell_type": "code",
      "source": [
        "# Mengekstrak zip file\n",
        "import zipfile\n",
        "\n",
        "local_zip = '/content/mobile-price-classification.zip'\n",
        "zip_ref = zipfile.ZipFile(local_zip, 'r')\n",
        "zip_ref.extractall('/content')\n",
        "zip_ref.close()"
      ],
      "metadata": {
        "id": "EO-rgL3qwbTm"
      },
      "execution_count": null,
      "outputs": []
    },
    {
      "cell_type": "code",
      "source": [
        "#from google.colab import drive\n",
        "#drive.mount('/content/drive')"
      ],
      "metadata": {
        "id": "HSw5ZsLmqtcj"
      },
      "execution_count": null,
      "outputs": []
    },
    {
      "cell_type": "code",
      "source": [
        "# Mengubah dataset menjadi dataframe\n",
        "import pandas as pd\n",
        "\n",
        "df = pd.read_csv('/content/train.csv')\n",
        "df.head()"
      ],
      "metadata": {
        "id": "ReyYnJUvwdz_"
      },
      "execution_count": null,
      "outputs": []
    },
    {
      "cell_type": "code",
      "source": [
        "df.info()"
      ],
      "metadata": {
        "id": "USJvE3E-xDge"
      },
      "execution_count": null,
      "outputs": []
    },
    {
      "cell_type": "code",
      "source": [
        "df.describe()"
      ],
      "metadata": {
        "id": "7SdAAuK2xICd"
      },
      "execution_count": null,
      "outputs": []
    },
    {
      "cell_type": "code",
      "source": [
        "df.isnull().sum()"
      ],
      "metadata": {
        "id": "oSkpUYjexWCv"
      },
      "execution_count": null,
      "outputs": []
    },
    {
      "cell_type": "code",
      "source": [
        "# Memeriksa rasionalitas beberapa variabel\n",
        "px_h = (df.px_height==0).sum()\n",
        "px_w = (df.px_width==0).sum()\n",
        "sc_h = (df.sc_h==0).sum()\n",
        "sc_w = (df.sc_w==0).sum()"
      ],
      "metadata": {
        "id": "_57_0HUlxXQe"
      },
      "execution_count": null,
      "outputs": []
    },
    {
      "cell_type": "code",
      "source": [
        "print(px_h)\n",
        "print(px_w)\n",
        "print(sc_h)\n",
        "print(sc_w)"
      ],
      "metadata": {
        "id": "NR2xIqRYxZoV"
      },
      "execution_count": null,
      "outputs": []
    },
    {
      "cell_type": "code",
      "source": [
        "# Menghapus nilai yang tidak rasional pada variabel\n",
        "df = df.loc[(df[['px_height','sc_w']]!=0).all(axis=1)]\n",
        "df.shape"
      ],
      "metadata": {
        "id": "3yTuil7mxb5V"
      },
      "execution_count": null,
      "outputs": []
    },
    {
      "cell_type": "code",
      "source": [
        "# Proses drop outliers\n",
        "Q1 = df.quantile(0.25)\n",
        "Q3 = df.quantile(0.75)\n",
        "IQR=Q3-Q1\n",
        "df=df[~((df<(Q1-1.5*IQR))|(df>(Q3+1.5*IQR))).any(axis=1)]\n",
        " \n",
        "# Cek ukuran dataset setelah outliers didrop\n",
        "df.shape"
      ],
      "metadata": {
        "id": "wTrIDrirxdxN"
      },
      "execution_count": null,
      "outputs": []
    },
    {
      "cell_type": "code",
      "source": [
        "# Melakukan proses analisis data dengan teknik Univariate EDA\n",
        "import matplotlib.pyplot as plt\n",
        "%matplotlib inline\n",
        "\n",
        "df.hist(bins=50, figsize=(20,15))\n",
        "plt.show()"
      ],
      "metadata": {
        "id": "RgV5Htc_xjAG"
      },
      "execution_count": null,
      "outputs": []
    },
    {
      "cell_type": "code",
      "source": [
        "df_new = pd.DataFrame()"
      ],
      "metadata": {
        "id": "6QOqArWlxmzm"
      },
      "execution_count": null,
      "outputs": []
    },
    {
      "cell_type": "code",
      "source": [
        "df_new['Weight(g)'] = df['mobile_wt'].copy()\n",
        "df_new['Width(px)'] = df['px_width'].copy()\n",
        "df_new['Height(px)'] = df['px_height'].copy()\n",
        "df_new['ROM(MB)'] = df['int_memory'].copy()\n",
        "df_new['RAM(MB)'] = df['ram'].copy()\n",
        "df_new['Battery Capacity(mAh)'] = df['battery_power'].copy()\n",
        "df_new['Price'] = df['price_range'].copy()"
      ],
      "metadata": {
        "id": "OJvGaqPPyAT1"
      },
      "execution_count": null,
      "outputs": []
    },
    {
      "cell_type": "code",
      "source": [
        "df_new"
      ],
      "metadata": {
        "id": "jKaAPbuxys9-"
      },
      "execution_count": null,
      "outputs": []
    },
    {
      "cell_type": "markdown",
      "source": [
        "##################################################################################################"
      ],
      "metadata": {
        "id": "mKM4h07S0Lc-"
      }
    },
    {
      "cell_type": "markdown",
      "source": [
        "# ADD DATASET"
      ],
      "metadata": {
        "id": "d1-86ga_26y8"
      }
    },
    {
      "cell_type": "code",
      "source": [
        "df_add = pd.read_csv('/content/smartphone_specs.csv')\n",
        "df_add"
      ],
      "metadata": {
        "id": "HJQ-8GtG0JJY"
      },
      "execution_count": null,
      "outputs": []
    },
    {
      "cell_type": "code",
      "source": [
        "df_add = df_add.rename(columns={'Price(USD)': 'Price'})"
      ],
      "metadata": {
        "id": "IBhlNEAfBGXg"
      },
      "execution_count": null,
      "outputs": []
    },
    {
      "cell_type": "code",
      "source": [
        "df_add.isnull().sum()"
      ],
      "metadata": {
        "id": "e65dhnls0buf"
      },
      "execution_count": null,
      "outputs": []
    },
    {
      "cell_type": "code",
      "source": [
        "df_add = df_add.dropna()"
      ],
      "metadata": {
        "id": "fxlt78aZ3ExO"
      },
      "execution_count": null,
      "outputs": []
    },
    {
      "cell_type": "code",
      "source": [
        "df_add.isnull().sum()"
      ],
      "metadata": {
        "id": "zDI3Huz43c53"
      },
      "execution_count": null,
      "outputs": []
    },
    {
      "cell_type": "code",
      "source": [
        "df_add.describe()"
      ],
      "metadata": {
        "id": "kGh88MS83eBG"
      },
      "execution_count": null,
      "outputs": []
    },
    {
      "cell_type": "code",
      "source": [
        "df_add = df_add.loc[df_add['Weight(g)']<=200]"
      ],
      "metadata": {
        "id": "VkYG0EGk3o5m"
      },
      "execution_count": null,
      "outputs": []
    },
    {
      "cell_type": "code",
      "source": [
        "df_add"
      ],
      "metadata": {
        "id": "nJl174h433D_"
      },
      "execution_count": null,
      "outputs": []
    },
    {
      "cell_type": "code",
      "source": [
        "df_add.loc[df_add['Price']<100, 'Price'] = 0\n",
        "df_add.loc[(df_add['Price']>=100) & (df_add['Price']<200), 'Price'] = 1\n",
        "df_add.loc[(df_add['Price']>=200) & (df_add['Price']<400), 'Price'] = 2\n",
        "df_add.loc[df_add['Price']>=400, 'Price'] = 3"
      ],
      "metadata": {
        "id": "zch9G9Pk35Om"
      },
      "execution_count": null,
      "outputs": []
    },
    {
      "cell_type": "code",
      "source": [
        "df_add.describe()"
      ],
      "metadata": {
        "id": "PZ-n0e-g7E2D"
      },
      "execution_count": null,
      "outputs": []
    },
    {
      "cell_type": "code",
      "source": [
        "df_add"
      ],
      "metadata": {
        "id": "QQ14581q5RJJ"
      },
      "execution_count": null,
      "outputs": []
    },
    {
      "cell_type": "code",
      "source": [
        "df_add.Brand.unique()"
      ],
      "metadata": {
        "id": "Zq_l_KOkDZFY"
      },
      "execution_count": null,
      "outputs": []
    },
    {
      "cell_type": "code",
      "source": [
        "(df_add.loc[(df_add['Brand']=='samsung') & (df_add['Price']==1)]).describe()"
      ],
      "metadata": {
        "id": "0zXuF_BF64yQ"
      },
      "execution_count": null,
      "outputs": []
    },
    {
      "cell_type": "code",
      "source": [
        "samsung = df_add.loc[df_add['Brand']=='samsung']\n",
        "samsung = samsung.drop(columns=['Brand','Model Name','Model Image'])"
      ],
      "metadata": {
        "id": "5hQkVV_0ECRv"
      },
      "execution_count": null,
      "outputs": []
    },
    {
      "cell_type": "code",
      "source": [
        "oppo = df_add.loc[df_add['Brand']=='oppo']\n",
        "oppo = oppo.drop(columns=['Brand','Model Name','Model Image'])"
      ],
      "metadata": {
        "id": "bc_YlcU2EOBx"
      },
      "execution_count": null,
      "outputs": []
    },
    {
      "cell_type": "code",
      "source": [
        "vivo = df_add.loc[df_add['Brand']=='vivo']\n",
        "vivo = vivo.drop(columns=['Brand','Model Name','Model Image'])"
      ],
      "metadata": {
        "id": "O2s5X_SLFWKi"
      },
      "execution_count": null,
      "outputs": []
    },
    {
      "cell_type": "code",
      "source": [
        "xiaomi = df_add.loc[df_add['Brand']=='xiaomi']\n",
        "xiaomi = xiaomi.drop(columns=['Brand','Model Name','Model Image'])"
      ],
      "metadata": {
        "id": "B-IhwAekFe2w"
      },
      "execution_count": null,
      "outputs": []
    },
    {
      "cell_type": "code",
      "source": [
        "realme = df_add.loc[df_add['Brand']=='realme']\n",
        "realme = realme.drop(columns=['Brand','Model Name','Model Image'])"
      ],
      "metadata": {
        "id": "ZT-Ssm0FFyLo"
      },
      "execution_count": null,
      "outputs": []
    },
    {
      "cell_type": "code",
      "source": [
        "#apple = df_add.loc[df_add['Brand']=='apple']\n",
        "#apple = apple.drop(columns=['Brand','Model Name','Model Image'])"
      ],
      "metadata": {
        "id": "zwn2uuPPF9HN"
      },
      "execution_count": null,
      "outputs": []
    },
    {
      "cell_type": "code",
      "source": [
        "print(len(df_new))\n",
        "print(len(samsung))\n",
        "print(len(oppo))\n",
        "print(len(vivo))\n",
        "print(len(xiaomi))\n",
        "print(len(realme))\n",
        "#print(len(apple))"
      ],
      "metadata": {
        "id": "J0B95hkcG104"
      },
      "execution_count": null,
      "outputs": []
    },
    {
      "cell_type": "markdown",
      "source": [
        "####################################################################################"
      ],
      "metadata": {
        "id": "EjjX-EQ_Gj7W"
      }
    },
    {
      "cell_type": "code",
      "source": [
        "df_final = pd.concat([df_new, samsung, vivo, oppo, xiaomi, realme], ignore_index=True, sort=False)\n",
        "#df_final = pd.concat([df_new, samsung, vivo, oppo, xiaomi, realme, apple], ignore_index=True, sort=False)"
      ],
      "metadata": {
        "id": "OnEzu_BqGGz_"
      },
      "execution_count": null,
      "outputs": []
    },
    {
      "cell_type": "code",
      "source": [
        "df_final"
      ],
      "metadata": {
        "id": "ygIaSRe6Gf7B"
      },
      "execution_count": null,
      "outputs": []
    },
    {
      "cell_type": "code",
      "source": [
        "(df_final.loc[df_final['Price']==0]).describe()"
      ],
      "metadata": {
        "id": "ZdQDyZNX8M6H"
      },
      "execution_count": null,
      "outputs": []
    },
    {
      "cell_type": "code",
      "source": [
        "(df_final.loc[df_final['Price']==1]).describe()"
      ],
      "metadata": {
        "id": "2YdpH7Ux8hqP"
      },
      "execution_count": null,
      "outputs": []
    },
    {
      "cell_type": "code",
      "source": [
        "(df_final.loc[df_final['Price']==2]).describe()"
      ],
      "metadata": {
        "id": "x9HEYLkI8iG_"
      },
      "execution_count": null,
      "outputs": []
    },
    {
      "cell_type": "code",
      "source": [
        "(df_final.loc[df_final['Price']==3]).describe()"
      ],
      "metadata": {
        "id": "7hPRlp2g8jdi"
      },
      "execution_count": null,
      "outputs": []
    },
    {
      "cell_type": "code",
      "source": [
        "df_final.isnull().sum()"
      ],
      "metadata": {
        "id": "ywxrmAHuGmm3"
      },
      "execution_count": null,
      "outputs": []
    },
    {
      "cell_type": "code",
      "source": [
        "df_final.info()"
      ],
      "metadata": {
        "id": "mLkxIOBIGuYo"
      },
      "execution_count": null,
      "outputs": []
    },
    {
      "cell_type": "code",
      "source": [
        "df_final.describe()"
      ],
      "metadata": {
        "id": "UPoQcKxyGxc3"
      },
      "execution_count": null,
      "outputs": []
    },
    {
      "cell_type": "code",
      "source": [
        "(df_final['Height(px)']==1).sum()"
      ],
      "metadata": {
        "id": "nZHzm7rLHpyB"
      },
      "execution_count": null,
      "outputs": []
    },
    {
      "cell_type": "code",
      "source": [
        "# Menghapus nilai yang tidak rasional pada variabel\n",
        "df_final = df_final.loc[(df_final['Height(px)']!=1)]\n",
        "df_final.shape"
      ],
      "metadata": {
        "id": "epgnnuXCH2mA"
      },
      "execution_count": null,
      "outputs": []
    },
    {
      "cell_type": "code",
      "source": [
        "df_final.describe()"
      ],
      "metadata": {
        "id": "qoCB7aOEnHZQ"
      },
      "execution_count": null,
      "outputs": []
    },
    {
      "cell_type": "code",
      "source": [
        "df_final"
      ],
      "metadata": {
        "id": "fL_2tq77IPXh"
      },
      "execution_count": null,
      "outputs": []
    },
    {
      "cell_type": "code",
      "source": [
        "import seaborn as sns\n",
        "sns.boxplot(x=df_final['Weight(g)'])"
      ],
      "metadata": {
        "id": "oSVHhQBBITJo"
      },
      "execution_count": null,
      "outputs": []
    },
    {
      "cell_type": "code",
      "source": [
        "sns.boxplot(x=df_final['Width(px)'])"
      ],
      "metadata": {
        "id": "s_sy7UBrIecp"
      },
      "execution_count": null,
      "outputs": []
    },
    {
      "cell_type": "code",
      "source": [
        "sns.boxplot(x=df_final['Height(px)'])"
      ],
      "metadata": {
        "id": "Y8lMaYjLIh2Y"
      },
      "execution_count": null,
      "outputs": []
    },
    {
      "cell_type": "code",
      "source": [
        "sns.boxplot(x=df_final['ROM(MB)'])"
      ],
      "metadata": {
        "id": "q0vTu0biIuT5"
      },
      "execution_count": null,
      "outputs": []
    },
    {
      "cell_type": "code",
      "source": [
        "sns.boxplot(x=df_final['RAM(MB)'])"
      ],
      "metadata": {
        "id": "MCioHKyeIx-Q"
      },
      "execution_count": null,
      "outputs": []
    },
    {
      "cell_type": "code",
      "source": [
        "sns.boxplot(x=df_final['Battery Capacity(mAh)'])"
      ],
      "metadata": {
        "id": "nrBfy9BnI1kZ"
      },
      "execution_count": null,
      "outputs": []
    },
    {
      "cell_type": "code",
      "source": [
        "# Proses drop outliers\n",
        "Q1 = df_final.quantile(0.25)\n",
        "Q3 = df_final.quantile(0.75)\n",
        "IQR=Q3-Q1\n",
        "df_final=df_final[~((df_final<(Q1-1.5*IQR))|(df_final>(Q3+1.5*IQR))).any(axis=1)]\n",
        " \n",
        "# Cek ukuran dataset setelah outliers didrop\n",
        "df_final.shape"
      ],
      "metadata": {
        "id": "ylhoUMsQJJ9w"
      },
      "execution_count": null,
      "outputs": []
    },
    {
      "cell_type": "code",
      "source": [
        "import matplotlib.pyplot as plt\n",
        "%matplotlib inline\n",
        "\n",
        "df_final.hist(bins=50, figsize=(20,15))\n",
        "plt.show()"
      ],
      "metadata": {
        "id": "NQF_cKJKJYmz"
      },
      "execution_count": null,
      "outputs": []
    },
    {
      "cell_type": "code",
      "source": [
        "list(df_final.columns.values[:6])"
      ],
      "metadata": {
        "id": "RL-nj940JwoQ"
      },
      "execution_count": null,
      "outputs": []
    },
    {
      "cell_type": "markdown",
      "source": [
        "########################################################################"
      ],
      "metadata": {
        "id": "CckdARTgWQoy"
      }
    },
    {
      "cell_type": "code",
      "source": [
        "plt.figure(figsize=(10, 8))\n",
        "correlation_matrix = df_final.corr().round(2)\n",
        "\n",
        "sns.heatmap(data=correlation_matrix, annot=True, cmap='coolwarm', linewidths=0.5, )\n",
        "plt.title(\"Correlation Matrix untuk Fitur Numerik \", size=20)"
      ],
      "metadata": {
        "id": "8NG2DCdHWUxb"
      },
      "execution_count": null,
      "outputs": []
    },
    {
      "cell_type": "markdown",
      "source": [
        "########################################################################"
      ],
      "metadata": {
        "id": "ZoH5pJ-7WR7D"
      }
    },
    {
      "cell_type": "code",
      "source": [
        "from sklearn.model_selection import train_test_split\n",
        "\n",
        "b = df_final['Price'] \n",
        "\n",
        "\n",
        "li = list(df_final.columns.values[:6])\n",
        "a = df_final[li]\n",
        "\n",
        "# Split dataset menjadi train dan test\n",
        "a_train, a_test, b_train, b_test = train_test_split(a, b, test_size=0.2, random_state=123)"
      ],
      "metadata": {
        "id": "N7SjRvDJJk5x"
      },
      "execution_count": null,
      "outputs": []
    },
    {
      "cell_type": "code",
      "source": [
        "from sklearn.ensemble import RandomForestClassifier\n",
        "from sklearn import metrics\n",
        "\n",
        "clf=RandomForestClassifier(n_estimators = 100, oob_score = True,n_jobs = 1,random_state =1)\n",
        "\n",
        "clf.fit(a_train,b_train)\n",
        "\n",
        "y_pred=clf.predict(a_test)\n",
        "\n",
        "\n",
        "print(\"Accuracy:\",metrics.accuracy_score(b_test, y_pred))"
      ],
      "metadata": {
        "id": "BSBeTADOqkuS"
      },
      "execution_count": null,
      "outputs": []
    },
    {
      "cell_type": "code",
      "source": [
        "var_imp = pd.Series(clf.feature_importances_,index=list(df_final.columns.values[:6])).sort_values(ascending=False)\n",
        "var_imp"
      ],
      "metadata": {
        "id": "Sa2X_kiYKBK6"
      },
      "execution_count": null,
      "outputs": []
    },
    {
      "cell_type": "code",
      "source": [
        "(df_final.loc[df_final['Price']==0]).describe()"
      ],
      "metadata": {
        "id": "BNOy4L5L_-CJ"
      },
      "execution_count": null,
      "outputs": []
    },
    {
      "cell_type": "code",
      "source": [
        "import numpy as np\n",
        "print(clf.predict(np.array([[int(i) for i in input().split()]])))"
      ],
      "metadata": {
        "id": "b0K2iCof-uv5"
      },
      "execution_count": null,
      "outputs": []
    },
    {
      "cell_type": "code",
      "source": [
        "# Membuat bar plot\n",
        "sns.barplot(x=var_imp, y=var_imp.index)\n",
        "plt.xlabel('Skor variabel penting')\n",
        "plt.ylabel('Variabel')\n",
        "plt.title('Visualisasi variabel penting')\n",
        "plt.legend()\n",
        "plt.show()"
      ],
      "metadata": {
        "id": "HvWoNFH_KJyy"
      },
      "execution_count": null,
      "outputs": []
    },
    {
      "cell_type": "code",
      "source": [
        "from sklearn.model_selection import train_test_split\n",
        "\n",
        "y = df_final['Price'] \n",
        "\n",
        "# Ambil fitur penting\n",
        "li = list(df_final.columns.values[:6])\n",
        "X = df_final[li]\n",
        "# Split dataset menjadi train dan test\n",
        "X_train, X_test, y_train, y_test = train_test_split(X, y, test_size=0.2, random_state=123)"
      ],
      "metadata": {
        "id": "sRapD4iVKPpQ"
      },
      "execution_count": null,
      "outputs": []
    },
    {
      "cell_type": "code",
      "source": [
        "print(X_test.shape)\n",
        "print(X_train.shape)"
      ],
      "metadata": {
        "id": "iVo6n56YKjxI"
      },
      "execution_count": null,
      "outputs": []
    },
    {
      "cell_type": "code",
      "source": [
        "# Model KNN\n",
        "from sklearn.neighbors import KNeighborsClassifier\n",
        "from sklearn import metrics\n",
        "\n",
        "knn = KNeighborsClassifier(n_neighbors=9)\n",
        "\n",
        "knn.fit(X_train, y_train)\n",
        "\n",
        "y_pred = knn.predict(X_test)\n",
        "\n",
        "a_KNN = metrics.accuracy_score(y_test, y_pred)\n",
        "print(\"Accuracy:\",a_KNN)"
      ],
      "metadata": {
        "id": "J-Zl2PYLtc-I"
      },
      "execution_count": null,
      "outputs": []
    },
    {
      "cell_type": "code",
      "source": [
        "from sklearn.svm import SVC\n",
        "\n",
        "svm = SVC(kernel='linear',C=0.025,random_state=123)\n",
        "svm.fit(X_train, y_train)\n",
        "\n",
        "y_pred = svm.predict(X_test)\n",
        "\n",
        "a_svmSVC = metrics.accuracy_score(y_test, y_pred)\n",
        "print(\"Accuracy:\",a_svmSVC)"
      ],
      "metadata": {
        "id": "AlAVeroLrAXy"
      },
      "execution_count": null,
      "outputs": []
    },
    {
      "cell_type": "code",
      "source": [
        "from sklearn.preprocessing import StandardScaler\n",
        "numerical_features = ['Weight(g)', 'Width(px)', 'Height(px)', 'ROM(MB)', 'RAM(MB)', 'Battery Capacity(mAh)']\n",
        "scaler = StandardScaler()\n",
        "scaler.fit(X_train[numerical_features])\n",
        "X_train[numerical_features] = scaler.transform(X_train.loc[:, numerical_features])\n",
        "X_train[numerical_features]"
      ],
      "metadata": {
        "id": "_EbM14MyuBOh"
      },
      "execution_count": null,
      "outputs": []
    },
    {
      "cell_type": "code",
      "source": [
        "X_test.loc[:, numerical_features] = scaler.transform(X_test[numerical_features])\n",
        "X_test.loc[:, numerical_features]"
      ],
      "metadata": {
        "id": "QWaK85N0uIgh"
      },
      "execution_count": null,
      "outputs": []
    },
    {
      "cell_type": "code",
      "source": [
        "from sklearn.linear_model import LogisticRegression\n",
        "\n",
        "lr = LogisticRegression(max_iter=10000, random_state=123)\n",
        "lr.fit(X_train, y_train)\n",
        "\n",
        "y_pred = lr.predict(X_test)\n",
        "\n",
        "a_lr = metrics.accuracy_score(y_test, y_pred)\n",
        "print(\"Accuracy:\",a_lr)"
      ],
      "metadata": {
        "id": "6hEgcV-zs9On"
      },
      "execution_count": null,
      "outputs": []
    },
    {
      "cell_type": "code",
      "source": [
        "from sklearn.neighbors import KNeighborsClassifier\n",
        "from sklearn.tree import DecisionTreeClassifier\n",
        "from sklearn.svm import LinearSVC\n",
        "\n",
        "\n",
        "#K-Nearest Neigbors classifier\n",
        "KNN_model = KNeighborsClassifier(n_neighbors=5)\n",
        "KNN_model.fit(X_train,y_train)\n",
        "KNNPrediction = KNN_model.predict(X_test)\n",
        "\n",
        "#Decision Tree Classifier\n",
        "decissionTree = DecisionTreeClassifier(criterion='entropy',random_state=0)\n",
        "decissionTree.fit(X_train,y_train)\n",
        "TreePrediction = decissionTree.predict(X_test)\n",
        "\n",
        "#Support Vector Machine Classifier\n",
        "SVM = LinearSVC(random_state=0, max_iter=10000)\n",
        "SVM.fit(X_train, y_train)\n",
        "SVMPrediction = SVM.predict(X_test)"
      ],
      "metadata": {
        "id": "2Ezw5Pi49_cY"
      },
      "execution_count": null,
      "outputs": []
    },
    {
      "cell_type": "code",
      "source": [
        "from sklearn.metrics import accuracy_score\n",
        "#Kode untuk melihat akurasi\n",
        "print(\"Accuracy Score of KNN:\",accuracy_score(y_test,KNNPrediction))\n",
        "print(\"Accuracy Score of Decision Tree:\",accuracy_score(y_test,TreePrediction))\n",
        "print(\"Accuracy Score of SVM:\",accuracy_score(y_test,SVMPrediction))"
      ],
      "metadata": {
        "id": "LUSnDDOS-Me_"
      },
      "execution_count": null,
      "outputs": []
    },
    {
      "cell_type": "code",
      "source": [
        "from sklearn.metrics import classification_report\n",
        "print(classification_report(b_test, y_pred))"
      ],
      "metadata": {
        "id": "IBPUyAx6D_Pg"
      },
      "execution_count": null,
      "outputs": []
    }
  ]
}