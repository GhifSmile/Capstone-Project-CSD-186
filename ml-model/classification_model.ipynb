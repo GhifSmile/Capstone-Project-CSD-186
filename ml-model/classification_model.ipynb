{
  "nbformat": 4,
  "nbformat_minor": 0,
  "metadata": {
    "colab": {
      "name": "classification-model",
      "provenance": []
    },
    "kernelspec": {
      "name": "python3",
      "display_name": "Python 3"
    },
    "language_info": {
      "name": "python"
    }
  },
  "cells": [
    {
      "cell_type": "markdown",
      "metadata": {
        "id": "lsgK6Ac8kfQE"
      },
      "source": [
        "<h1>Capstone Project <h1>\n",
        "<h2>[Sistem Klasifikasi Harga Smartphone Berdasarkan Spesifikasi dan Ekspansinya]<h2>\n",
        "<h4>Kelas : M2<h4>\n",
        "<h4>Tean Id : CSD-186<h4>"
      ]
    },
    {
      "cell_type": "markdown",
      "metadata": {
        "id": "MUx7OPDTk3x2"
      },
      "source": [
        "## Business Understanding\n",
        "\n",
        "Semakin banyaknya perusahaan-perusahaan pembuat produk handphone atau smartphone, membuat produsen serta konsumen harus dapat menyesuaikan produk terhadap finansial. Apa yang menjadi tolak ukur utama dalam pendistribusian produk? Siapa yang terlibat dalam penyesuaian finansial produk? Mengapa finansial menjadi tolak ukur utama dalam produksi? Kapan produk harus diberi kesesuaian finansial? Di mana produk harus diberi kesesuaian finansial? Bagaimana permasalahan tersebut dapat terselesaikan? Proyek ini bertujuan untuk membuat sebuah web aplikasi dengan fitur sistem klasifikasi harga berdasarkan spesifikasi dan ekspansi berupa sistem rekomendasi berdasarkan harga. Kami memilih proyek ini dikarenakan permasalahan yang digunakan cukup umum dan memandang fungsionalitas proyek yang efektif.\n",
        "\n",
        "### Problem Statement\n",
        "Berapa Harga Smartphone yang cocok dengan spesifikasi yang diinginkan pengguna?\n",
        "\n",
        "### Goals\n",
        "Menentukan Harga Smartphone yang cocok dengan spesifikasi yang diinginkan pengguna?\n",
        "\n",
        "### Solution statements\n",
        "\n",
        "Solusi yang diajukan terdiri dari 3 jenis model, antara lain KNN, Random Forest, dan AdaBoost, yang kemudian dipilih dari antara ketiga model tersebut, yang memiliki tingkat akurasi paling tinggi.\n",
        "\n",
        "- **K-Nearest Neighbours**. Merupakan algoritma machine learning untuk proses klasifikasi. Algoritma ini merupakan *supervised learning* dan mengelompokan suatu label dengan cara mencari kesesuaian dengan tetangga terdekat.\n",
        "\n",
        "- **AdaBoost**. atau adaptive boosting merupakan salah satu teknik ensamble dengan menggunakan loss function fungsi exponential untuk memperbaiki tingkat akurasi dari prediksi yang dibuat.\n",
        "\n",
        "- **Random Forest**. Random forest merupakan kombinasi dari masing–masing pohon dari model Decision Tree yang baik, dan kemudian dikombinasikan ke dalam satu model. Penentuan klasifikasi dengan random forest diambil berdasarkan hasil voting dari tree yang terbentuk."
      ]
    },
    {
      "cell_type": "markdown",
      "metadata": {
        "id": "UewNEkUjn5lH"
      },
      "source": [
        "#### Import Seluruh Library Dependencies"
      ]
    },
    {
      "cell_type": "code",
      "metadata": {
        "id": "_0-QK5w4UJTT"
      },
      "source": [
        "import zipfile\n",
        "import pandas as pd\n",
        "import seaborn as sns\n",
        "import matplotlib.pyplot as plt\n",
        "from sklearn.model_selection import train_test_split\n",
        "from sklearn import metrics\n",
        "from sklearn.svm import SVC\n",
        "\n",
        "# Import library Model\n",
        "from sklearn.ensemble import RandomForestClassifier\n",
        "from sklearn.neighbors import KNeighborsClassifier\n",
        "from sklearn.ensemble import AdaBoostClassifier"
      ],
      "execution_count": null,
      "outputs": []
    },
    {
      "cell_type": "markdown",
      "metadata": {
        "id": "FKbhEL0_q8cV"
      },
      "source": [
        "## Data Loading"
      ]
    },
    {
      "cell_type": "code",
      "metadata": {
        "id": "Ul5Cz7haq_C_"
      },
      "source": [
        ""
      ],
      "execution_count": null,
      "outputs": []
    }
  ]
}