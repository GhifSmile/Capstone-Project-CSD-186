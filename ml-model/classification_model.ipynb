{
  "nbformat": 4,
  "nbformat_minor": 0,
  "metadata": {
    "colab": {
      "name": "classification-model",
      "provenance": []
    },
    "kernelspec": {
      "name": "python3",
      "display_name": "Python 3"
    },
    "language_info": {
      "name": "python"
    }
  },
  "cells": [
    {
      "cell_type": "markdown",
      "metadata": {
        "id": "lsgK6Ac8kfQE"
      },
      "source": [
        "<h1>Capstone Project <h1>\n",
        "<h2>[Sistem Klasifikasi Harga Smartphone Berdasarkan Spesifikasi dan Ekspansinya]<h2>\n",
        "<h4>Kelas : M2<h4>\n",
        "<h4>Tean Id : CSD-186<h4>"
      ]
    },
    {
      "cell_type": "markdown",
      "metadata": {
        "id": "MUx7OPDTk3x2"
      },
      "source": [
        "## Business Understanding\n",
        "\n",
        "Semakin banyaknya perusahaan-perusahaan pembuat produk handphone atau smartphone, membuat produsen serta konsumen harus dapat menyesuaikan produk terhadap finansial. Apa yang menjadi tolak ukur utama dalam pendistribusian produk? Siapa yang terlibat dalam penyesuaian finansial produk? Mengapa finansial menjadi tolak ukur utama dalam produksi? Kapan produk harus diberi kesesuaian finansial? Di mana produk harus diberi kesesuaian finansial? Bagaimana permasalahan tersebut dapat terselesaikan? Proyek ini bertujuan untuk membuat sebuah web aplikasi dengan fitur sistem klasifikasi harga berdasarkan spesifikasi dan ekspansi berupa sistem rekomendasi berdasarkan harga. Kami memilih proyek ini dikarenakan permasalahan yang digunakan cukup umum dan memandang fungsionalitas proyek yang efektif.\n",
        "\n",
        "### Problem Statement\n",
        "Berapa Harga Smartphone yang cocok dengan spesifikasi yang diinginkan pengguna?\n",
        "\n",
        "### Goals\n",
        "Menentukan Harga Smartphone yang cocok dengan spesifikasi yang diinginkan pengguna?\n",
        "\n",
        "### Solution statements\n",
        "\n",
        "Solusi yang diajukan terdiri dari 3 jenis model, antara lain KNN, Random Forest, dan AdaBoost, yang kemudian dipilih dari antara ketiga model tersebut, yang memiliki tingkat akurasi paling tinggi.\n",
        "\n",
        "- **K-Nearest Neighbours**. Merupakan algoritma machine learning untuk proses klasifikasi. Algoritma ini merupakan *supervised learning* dan mengelompokan suatu label dengan cara mencari kesesuaian dengan tetangga terdekat.\n",
        "\n",
        "- **AdaBoost**. atau adaptive boosting merupakan salah satu teknik ensamble dengan menggunakan loss function fungsi exponential untuk memperbaiki tingkat akurasi dari prediksi yang dibuat.\n",
        "\n",
        "- **Random Forest**. Random forest merupakan kombinasi dari masing–masing pohon dari model Decision Tree yang baik, dan kemudian dikombinasikan ke dalam satu model. Penentuan klasifikasi dengan random forest diambil berdasarkan hasil voting dari tree yang terbentuk."
      ]
    },
    {
      "cell_type": "markdown",
      "metadata": {
        "id": "UewNEkUjn5lH"
      },
      "source": [
        "#### Import Seluruh Library Dependencies"
      ]
    },
    {
      "cell_type": "code",
      "metadata": {
        "id": "_0-QK5w4UJTT"
      },
      "source": [
        "import zipfile\n",
        "import pandas as pd\n",
        "import seaborn as sns\n",
        "import matplotlib.pyplot as plt\n",
        "from sklearn.model_selection import train_test_split\n",
        "from sklearn import metrics\n",
        "from sklearn.svm import SVC\n",
        "\n",
        "# Import library Model\n",
        "from sklearn.ensemble import RandomForestClassifier\n",
        "from sklearn.neighbors import KNeighborsClassifier\n",
        "from sklearn.ensemble import AdaBoostClassifier"
      ],
      "execution_count": 1,
      "outputs": []
    },
    {
      "cell_type": "markdown",
      "metadata": {
        "id": "FKbhEL0_q8cV"
      },
      "source": [
        "## Data Loading"
      ]
    },
    {
      "cell_type": "markdown",
      "metadata": {
        "id": "bSc-0Q1mAsq6"
      },
      "source": [
        "Install library kaggle dan membuat directory baru bernama kaggle"
      ]
    },
    {
      "cell_type": "code",
      "metadata": {
        "id": "Ul5Cz7haq_C_",
        "colab": {
          "base_uri": "https://localhost:8080/"
        },
        "outputId": "609895eb-3c2b-44f0-f0e6-c5e1d1446b35"
      },
      "source": [
        "! pip install kaggle\n",
        "! mkdir ~/.kaggle\n",
        "! cp kaggle.json ~/.kaggle/"
      ],
      "execution_count": 2,
      "outputs": [
        {
          "output_type": "stream",
          "name": "stdout",
          "text": [
            "Requirement already satisfied: kaggle in /usr/local/lib/python3.7/dist-packages (1.5.12)\n",
            "Requirement already satisfied: python-dateutil in /usr/local/lib/python3.7/dist-packages (from kaggle) (2.8.2)\n",
            "Requirement already satisfied: python-slugify in /usr/local/lib/python3.7/dist-packages (from kaggle) (5.0.2)\n",
            "Requirement already satisfied: requests in /usr/local/lib/python3.7/dist-packages (from kaggle) (2.23.0)\n",
            "Requirement already satisfied: certifi in /usr/local/lib/python3.7/dist-packages (from kaggle) (2021.10.8)\n",
            "Requirement already satisfied: urllib3 in /usr/local/lib/python3.7/dist-packages (from kaggle) (1.24.3)\n",
            "Requirement already satisfied: six>=1.10 in /usr/local/lib/python3.7/dist-packages (from kaggle) (1.15.0)\n",
            "Requirement already satisfied: tqdm in /usr/local/lib/python3.7/dist-packages (from kaggle) (4.62.3)\n",
            "Requirement already satisfied: text-unidecode>=1.3 in /usr/local/lib/python3.7/dist-packages (from python-slugify->kaggle) (1.3)\n",
            "Requirement already satisfied: chardet<4,>=3.0.2 in /usr/local/lib/python3.7/dist-packages (from requests->kaggle) (3.0.4)\n",
            "Requirement already satisfied: idna<3,>=2.5 in /usr/local/lib/python3.7/dist-packages (from requests->kaggle) (2.10)\n",
            "cp: cannot stat 'kaggle.json': No such file or directory\n"
          ]
        }
      ]
    },
    {
      "cell_type": "markdown",
      "metadata": {
        "id": "MLQgrrCqA2kF"
      },
      "source": [
        "Copy \"kaggle.json\" ke dalam direktori yang telah dibuat, kemudian Mengalokasikan izin yang diperlukan untuk file tersebut."
      ]
    },
    {
      "cell_type": "code",
      "metadata": {
        "colab": {
          "base_uri": "https://localhost:8080/"
        },
        "id": "4q9vbSMwA35N",
        "outputId": "5f75cc70-4852-4978-abf7-17dd60d4c0e1"
      },
      "source": [
        "! chmod 600 ~/.kaggle/kaggle.json\n",
        "\n",
        "# Mendownload dan menyiapkan dataset \n",
        "! kaggle datasets download iabhishekofficial/mobile-price-classification"
      ],
      "execution_count": 3,
      "outputs": [
        {
          "output_type": "stream",
          "name": "stdout",
          "text": [
            "chmod: cannot access '/root/.kaggle/kaggle.json': No such file or directory\n",
            "Traceback (most recent call last):\n",
            "  File \"/usr/local/bin/kaggle\", line 5, in <module>\n",
            "    from kaggle.cli import main\n",
            "  File \"/usr/local/lib/python2.7/dist-packages/kaggle/__init__.py\", line 23, in <module>\n",
            "    api.authenticate()\n",
            "  File \"/usr/local/lib/python2.7/dist-packages/kaggle/api/kaggle_api_extended.py\", line 146, in authenticate\n",
            "    self.config_file, self.config_dir))\n",
            "IOError: Could not find kaggle.json. Make sure it's located in /root/.kaggle. Or use the environment method.\n"
          ]
        }
      ]
    },
    {
      "cell_type": "markdown",
      "metadata": {
        "id": "3dDtOWPTBCgS"
      },
      "source": [
        "Mendownload dataset mobile price classification."
      ]
    },
    {
      "cell_type": "code",
      "metadata": {
        "colab": {
          "base_uri": "https://localhost:8080/",
          "height": 356
        },
        "id": "SVLj7FzaBEm2",
        "outputId": "c8c9c0a5-6494-46d9-b034-48125b7b97dd"
      },
      "source": [
        "# Mengekstrak zip file\n",
        "\n",
        "local_zip = '/content/mobile-price-classification.zip'\n",
        "zip_ref = zipfile.ZipFile(local_zip, 'r')\n",
        "zip_ref.extractall('/content')\n",
        "zip_ref.close()"
      ],
      "execution_count": 4,
      "outputs": [
        {
          "output_type": "error",
          "ename": "FileNotFoundError",
          "evalue": "ignored",
          "traceback": [
            "\u001b[0;31m---------------------------------------------------------------------------\u001b[0m",
            "\u001b[0;31mFileNotFoundError\u001b[0m                         Traceback (most recent call last)",
            "\u001b[0;32m<ipython-input-4-18617500b1e6>\u001b[0m in \u001b[0;36m<module>\u001b[0;34m()\u001b[0m\n\u001b[1;32m      3\u001b[0m \u001b[0;34m\u001b[0m\u001b[0m\n\u001b[1;32m      4\u001b[0m \u001b[0mlocal_zip\u001b[0m \u001b[0;34m=\u001b[0m \u001b[0;34m'/content/mobile-price-classification.zip'\u001b[0m\u001b[0;34m\u001b[0m\u001b[0;34m\u001b[0m\u001b[0m\n\u001b[0;32m----> 5\u001b[0;31m \u001b[0mzip_ref\u001b[0m \u001b[0;34m=\u001b[0m \u001b[0mzipfile\u001b[0m\u001b[0;34m.\u001b[0m\u001b[0mZipFile\u001b[0m\u001b[0;34m(\u001b[0m\u001b[0mlocal_zip\u001b[0m\u001b[0;34m,\u001b[0m \u001b[0;34m'r'\u001b[0m\u001b[0;34m)\u001b[0m\u001b[0;34m\u001b[0m\u001b[0;34m\u001b[0m\u001b[0m\n\u001b[0m\u001b[1;32m      6\u001b[0m \u001b[0mzip_ref\u001b[0m\u001b[0;34m.\u001b[0m\u001b[0mextractall\u001b[0m\u001b[0;34m(\u001b[0m\u001b[0;34m'/content'\u001b[0m\u001b[0;34m)\u001b[0m\u001b[0;34m\u001b[0m\u001b[0;34m\u001b[0m\u001b[0m\n\u001b[1;32m      7\u001b[0m \u001b[0mzip_ref\u001b[0m\u001b[0;34m.\u001b[0m\u001b[0mclose\u001b[0m\u001b[0;34m(\u001b[0m\u001b[0;34m)\u001b[0m\u001b[0;34m\u001b[0m\u001b[0;34m\u001b[0m\u001b[0m\n",
            "\u001b[0;32m/usr/lib/python3.7/zipfile.py\u001b[0m in \u001b[0;36m__init__\u001b[0;34m(self, file, mode, compression, allowZip64, compresslevel)\u001b[0m\n\u001b[1;32m   1238\u001b[0m             \u001b[0;32mwhile\u001b[0m \u001b[0;32mTrue\u001b[0m\u001b[0;34m:\u001b[0m\u001b[0;34m\u001b[0m\u001b[0;34m\u001b[0m\u001b[0m\n\u001b[1;32m   1239\u001b[0m                 \u001b[0;32mtry\u001b[0m\u001b[0;34m:\u001b[0m\u001b[0;34m\u001b[0m\u001b[0;34m\u001b[0m\u001b[0m\n\u001b[0;32m-> 1240\u001b[0;31m                     \u001b[0mself\u001b[0m\u001b[0;34m.\u001b[0m\u001b[0mfp\u001b[0m \u001b[0;34m=\u001b[0m \u001b[0mio\u001b[0m\u001b[0;34m.\u001b[0m\u001b[0mopen\u001b[0m\u001b[0;34m(\u001b[0m\u001b[0mfile\u001b[0m\u001b[0;34m,\u001b[0m \u001b[0mfilemode\u001b[0m\u001b[0;34m)\u001b[0m\u001b[0;34m\u001b[0m\u001b[0;34m\u001b[0m\u001b[0m\n\u001b[0m\u001b[1;32m   1241\u001b[0m                 \u001b[0;32mexcept\u001b[0m \u001b[0mOSError\u001b[0m\u001b[0;34m:\u001b[0m\u001b[0;34m\u001b[0m\u001b[0;34m\u001b[0m\u001b[0m\n\u001b[1;32m   1242\u001b[0m                     \u001b[0;32mif\u001b[0m \u001b[0mfilemode\u001b[0m \u001b[0;32min\u001b[0m \u001b[0mmodeDict\u001b[0m\u001b[0;34m:\u001b[0m\u001b[0;34m\u001b[0m\u001b[0;34m\u001b[0m\u001b[0m\n",
            "\u001b[0;31mFileNotFoundError\u001b[0m: [Errno 2] No such file or directory: '/content/mobile-price-classification.zip'"
          ]
        }
      ]
    },
    {
      "cell_type": "markdown",
      "metadata": {
        "id": "YhQZPh2zIpjy"
      },
      "source": [
        "Dataset yang digunakan berupa informasi mengenai estimasi kelompok harga dari beberapa smartphone atau mobile devices berdasarkan spesifikasi yang dimiliki perangkat tersebut, seperti RAM, prosesor, dan lainnya, Dataset:\n",
        "[Mobile Price Classification](https://www.kaggle.com/iabhishekofficial/mobile-price-classification)"
      ]
    },
    {
      "cell_type": "markdown",
      "metadata": {
        "id": "qX1ux1YwIpGG"
      },
      "source": [
        "Melakukan ekstraksi pada file dengan ekstensi zip agar dataset yang diperlukan dapat digunakan."
      ]
    },
    {
      "cell_type": "code",
      "metadata": {
        "id": "UfmBOCZsJZbM"
      },
      "source": [
        "# Mengubah dataset menjadi dataframe\n",
        "\n",
        "df = pd.read_csv('/content/train.csv')\n",
        "df.head()"
      ],
      "execution_count": null,
      "outputs": []
    },
    {
      "cell_type": "markdown",
      "metadata": {
        "id": "dYlvr-c2MMfh"
      },
      "source": [
        "## Data Understanding\n",
        "\n",
        "Data yang digunakan dalam proyek ini adalah dataset [*Mobile Price Classification*](https://www.kaggle.com/iabhishekofficial/mobile-price-classification) yang didapatkan melalui situs kaggle. Dataset ini terdiri dari beberapa variabel pendukung seperti kapasitas baterai, RAM, prosesor dan masih banyak lagi. Dataset ini terdiri dari 2000 sampel data dan 21 kolom dengan 1 kolom target prediksi yaitu price range atau kelompok harga dari smartphone. Kolom pertama hingga kolom ke-dua puluh satu merupakan data numerik.\n",
        "\n",
        "Deskripsi variabel:\n",
        "1. battery_power = energi total yang dapat disimpan baterai dalam satu waktu diukur dalam mAh\n",
        "2. blue = ada tidaknya bluetooth\n",
        "3. clock_speed = kecepatan di mana mikroprosesor mengeksekusi instruksi\n",
        "4. dual_sim = mendukung dual sim atau tidak\n",
        "5. fc = front camera dalam mega pixels\n",
        "6. four_g = mendukung 4G atau tidak\n",
        "7. int_memory = kapasitas internal memori dalam Gigabytes\n",
        "8. m_dep = kedalaman hp dalam cm\n",
        "9. mobile_wt = berat hp \n",
        "10. n_cores = jumlah cores dari processor\n",
        "11. pc = kamera utama dalam mega pixels\n",
        "12. px_height = tinggi resolusi pixel\n",
        "13. px_width = lebar resolusi pixel\n",
        "14. ram = jumlah ram dalam Mega Bytes\n",
        "15. sc_h = tinggi layar ponsel dalam cm\n",
        "16. sc_w = lebar layar ponsel dalam cm\n",
        "17. talk_time = waktu terlama satu kali pengisian baterai akan bertahan saat terakhir kali Anda berada\n",
        "18. three_g = mendukung 3G atau tidak\n",
        "19. touch_screen = mendukung layar sentuh atau tidak\n",
        "20. wifi = mendukung wifi atau tidak\n",
        "21. price_range = variabel target dengan nilai 0 (biaya rendah), 1 (biaya sedang), 2 (biaya tinggi) dan 3 (biaya sangat tinggi)"
      ]
    },
    {
      "cell_type": "code",
      "metadata": {
        "id": "AhRdduEAOjOJ"
      },
      "source": [
        "# Melihat informasi mengenai dataset\n",
        "df.info()"
      ],
      "execution_count": null,
      "outputs": []
    },
    {
      "cell_type": "markdown",
      "metadata": {
        "id": "KSbFefDoOkej"
      },
      "source": [
        "Melihat informasi statistik yang ada pada dataset. Terlihat bahwasanya dataset memiliki 2000 sampel."
      ]
    },
    {
      "cell_type": "code",
      "metadata": {
        "id": "bQVqlflWOpJz"
      },
      "source": [
        "df.describe()"
      ],
      "execution_count": null,
      "outputs": []
    },
    {
      "cell_type": "markdown",
      "metadata": {
        "id": "4nrQt4n5OuXK"
      },
      "source": [
        "Melihat deskripsi statistik pada dataset. Dapat menjadi catatan, bahwasanya tidak akan rasional apabila nilai pada px_height, px_width, sc_h, sc_w sama dengan 0. Karena nilai-nilai yang ada pada variabel tersebut merepresentasikan dimensi layar hp."
      ]
    },
    {
      "cell_type": "code",
      "metadata": {
        "id": "wF-cwYi_Oq22"
      },
      "source": [
        "# Melihat apakah ada missing value pada dataset\n",
        "df.isnull().sum()"
      ],
      "execution_count": null,
      "outputs": []
    },
    {
      "cell_type": "markdown",
      "metadata": {
        "id": "9WTWJXEsOwvx"
      },
      "source": [
        "Melihat apakah ada atau tidaknya missing value pada dataset. Terlihat bahwasanya tidak ada missing value pada dataset."
      ]
    },
    {
      "cell_type": "code",
      "metadata": {
        "id": "8mROeVm-OyTN"
      },
      "source": [
        "# Memeriksa rasionalitas beberapa variabel\n",
        "px_h = (df.px_height==0).sum()\n",
        "px_w = (df.px_width==0).sum()\n",
        "sc_h = (df.sc_h==0).sum()\n",
        "sc_w = (df.sc_w==0).sum()"
      ],
      "execution_count": null,
      "outputs": []
    },
    {
      "cell_type": "markdown",
      "metadata": {
        "id": "J8JIhHaaO0XD"
      },
      "source": [
        "Memeriksa rasionalitas beberapa variabel, hal ini diperlukan untuk melihat ada atau tidaknya nilai pada variabel yang tidak rasional."
      ]
    },
    {
      "cell_type": "code",
      "metadata": {
        "id": "2W5RIPd8O0DF"
      },
      "source": [
        "print(px_h)\n",
        "print(px_w)\n",
        "print(sc_h)\n",
        "print(sc_w)"
      ],
      "execution_count": null,
      "outputs": []
    },
    {
      "cell_type": "code",
      "metadata": {
        "id": "VT4dmPaTPBVD"
      },
      "source": [
        "# Menghapus nilai yang tidak rasional pada variabel\n",
        "df = df.loc[(df[['px_height','sc_w']]!=0).all(axis=1)]\n",
        "df.shape"
      ],
      "execution_count": null,
      "outputs": []
    },
    {
      "cell_type": "markdown",
      "metadata": {
        "id": "stsC-dWwPCoj"
      },
      "source": [
        "Maka tersisa 1819 sampel setelah menghilangkan sampel yang mengandung variabel dengan nilai yang tidak rasional."
      ]
    },
    {
      "cell_type": "markdown",
      "metadata": {
        "id": "W67-A-ALPXA_"
      },
      "source": [
        "### Menangani Outliers\n",
        "\n",
        "Setelah itu menangani Outliers dengan IQR Method dan menggunakan boxplot untuk visualisasi pada tiap variabel"
      ]
    },
    {
      "cell_type": "code",
      "metadata": {
        "id": "Yy1Hb2WcPHc7"
      },
      "source": [
        "sns.boxplot(x=df['battery_power'])"
      ],
      "execution_count": null,
      "outputs": []
    },
    {
      "cell_type": "markdown",
      "metadata": {
        "id": "aNe5lOIGPgdo"
      },
      "source": [
        "Melihat ada tidaknya outliers dengan IQR Method dan menggunakan boxplot untuk visualisasi pada variabel battery_power."
      ]
    },
    {
      "cell_type": "code",
      "metadata": {
        "id": "HnUu-mJXPg6X"
      },
      "source": [
        "sns.boxplot(x=df['blue'])"
      ],
      "execution_count": null,
      "outputs": []
    },
    {
      "cell_type": "markdown",
      "metadata": {
        "id": "4cs2e29hPjuS"
      },
      "source": [
        "Melihat ada tidaknya outliers dengan IQR Method dan menggunakan boxplot untuk visualisasi pada variabel blue."
      ]
    },
    {
      "cell_type": "code",
      "metadata": {
        "id": "KA5t7I4XPoAl"
      },
      "source": [
        "sns.boxplot(x=df['clock_speed'])"
      ],
      "execution_count": null,
      "outputs": []
    },
    {
      "cell_type": "markdown",
      "metadata": {
        "id": "tDFsBDKDPqMf"
      },
      "source": [
        "Melihat ada tidaknya outliers dengan IQR Method dan menggunakan boxplot untuk visualisasi pada variabel clock_speed."
      ]
    },
    {
      "cell_type": "code",
      "metadata": {
        "id": "gzBYI6nDPr41"
      },
      "source": [
        "sns.boxplot(x=df['dual_sim'])"
      ],
      "execution_count": null,
      "outputs": []
    },
    {
      "cell_type": "markdown",
      "metadata": {
        "id": "RiHgQ9ePPtNq"
      },
      "source": [
        "Melihat ada tidaknya outliers dengan IQR Method dan menggunakan boxplot untuk visualisasi pada variabel dual_sim."
      ]
    },
    {
      "cell_type": "code",
      "metadata": {
        "id": "NW88Flr2PvAo"
      },
      "source": [
        "sns.boxplot(x=df['fc'])"
      ],
      "execution_count": null,
      "outputs": []
    },
    {
      "cell_type": "markdown",
      "metadata": {
        "id": "EYePAmj_P3a0"
      },
      "source": [
        "Melihat ada tidaknya outliers dengan IQR Method dan menggunakan boxplot untuk visualisasi pada variabel fc."
      ]
    },
    {
      "cell_type": "code",
      "metadata": {
        "id": "Phh7fk7vP5It"
      },
      "source": [
        "sns.boxplot(x=df['four_g'])"
      ],
      "execution_count": null,
      "outputs": []
    },
    {
      "cell_type": "markdown",
      "metadata": {
        "id": "867xTjZZP73i"
      },
      "source": [
        "Melihat ada tidaknya outliers dengan IQR Method dan menggunakan boxplot untuk visualisasi pada variabel four_g."
      ]
    },
    {
      "cell_type": "code",
      "metadata": {
        "id": "NwaNcbYHP8Tq"
      },
      "source": [
        "sns.boxplot(x=df['int_memory'])"
      ],
      "execution_count": null,
      "outputs": []
    },
    {
      "cell_type": "markdown",
      "metadata": {
        "id": "cC6s7uNXP_fx"
      },
      "source": [
        "Melihat ada tidaknya outliers dengan IQR Method dan menggunakan boxplot untuk visualisasi pada variabel int_memory."
      ]
    },
    {
      "cell_type": "code",
      "metadata": {
        "id": "_TSN6XeCQAgF"
      },
      "source": [
        "sns.boxplot(x=df['m_dep'])"
      ],
      "execution_count": null,
      "outputs": []
    },
    {
      "cell_type": "markdown",
      "metadata": {
        "id": "LwDN9BGtQDKv"
      },
      "source": [
        "Melihat ada tidaknya outliers dengan IQR Method dan menggunakan boxplot untuk visualisasi pada variabel m_dep."
      ]
    },
    {
      "cell_type": "code",
      "metadata": {
        "id": "_3tdTGkiQGRa"
      },
      "source": [
        "sns.boxplot(x=df['mobile_wt'])"
      ],
      "execution_count": null,
      "outputs": []
    },
    {
      "cell_type": "markdown",
      "metadata": {
        "id": "YYVwWhd4QHkr"
      },
      "source": [
        "Melihat ada tidaknya outliers dengan IQR Method dan menggunakan boxplot untuk visualisasi pada variabel mobile_wt."
      ]
    },
    {
      "cell_type": "code",
      "metadata": {
        "id": "m53jaqU2QJ7Q"
      },
      "source": [
        "sns.boxplot(x=df['n_cores'])"
      ],
      "execution_count": null,
      "outputs": []
    },
    {
      "cell_type": "markdown",
      "metadata": {
        "id": "hkDqMM9TQLdj"
      },
      "source": [
        "Melihat ada tidaknya outliers dengan IQR Method dan menggunakan boxplot untuk visualisasi pada variabel n_cores."
      ]
    },
    {
      "cell_type": "code",
      "metadata": {
        "id": "1BLc2GInQNbm"
      },
      "source": [
        "sns.boxplot(x=df['pc'])"
      ],
      "execution_count": null,
      "outputs": []
    },
    {
      "cell_type": "markdown",
      "metadata": {
        "id": "9j97I-IQQP40"
      },
      "source": [
        "Melihat ada tidaknya outliers dengan IQR Method dan menggunakan boxplot untuk visualisasi pada variabel pc."
      ]
    },
    {
      "cell_type": "code",
      "metadata": {
        "id": "kx1tbpj4QT1q"
      },
      "source": [
        "sns.boxplot(x=df['px_height'])"
      ],
      "execution_count": null,
      "outputs": []
    },
    {
      "cell_type": "markdown",
      "metadata": {
        "id": "I-JtQ1DMQYAB"
      },
      "source": [
        "Melihat ada tidaknya outliers dengan IQR Method dan menggunakan boxplot untuk visualisasi pada variabel px_height."
      ]
    },
    {
      "cell_type": "code",
      "metadata": {
        "id": "oISg20OVQZaL"
      },
      "source": [
        "sns.boxplot(x=df['px_width'])"
      ],
      "execution_count": null,
      "outputs": []
    },
    {
      "cell_type": "markdown",
      "metadata": {
        "id": "OqvJmlm8QalH"
      },
      "source": [
        "Melihat ada tidaknya outliers dengan IQR Method dan menggunakan boxplot untuk visualisasi pada variabel px_width."
      ]
    },
    {
      "cell_type": "code",
      "metadata": {
        "id": "ygMHbWUXQcCo"
      },
      "source": [
        "sns.boxplot(x=df['ram'])"
      ],
      "execution_count": null,
      "outputs": []
    },
    {
      "cell_type": "markdown",
      "metadata": {
        "id": "zyVCrKhEQdM4"
      },
      "source": [
        "Melihat ada tidaknya outliers dengan IQR Method dan menggunakan boxplot untuk visualisasi pada variabel ram."
      ]
    },
    {
      "cell_type": "code",
      "metadata": {
        "id": "gsHi_kwMQen3"
      },
      "source": [
        "sns.boxplot(x=df['sc_h'])"
      ],
      "execution_count": null,
      "outputs": []
    },
    {
      "cell_type": "markdown",
      "metadata": {
        "id": "iK6fLlMUQhFQ"
      },
      "source": [
        "Melihat ada tidaknya outliers dengan IQR Method dan menggunakan boxplot untuk visualisasi pada variabel sc_h."
      ]
    },
    {
      "cell_type": "code",
      "metadata": {
        "id": "2p7Shm6OQhhl"
      },
      "source": [
        "sns.boxplot(x=df['sc_w'])"
      ],
      "execution_count": null,
      "outputs": []
    },
    {
      "cell_type": "markdown",
      "metadata": {
        "id": "RiVyeymVQjXg"
      },
      "source": [
        "Melihat ada tidaknya outliers dengan IQR Method dan menggunakan boxplot untuk visualisasi pada variabel sc_w."
      ]
    },
    {
      "cell_type": "code",
      "metadata": {
        "id": "7kJaPJ8rQknf"
      },
      "source": [
        "sns.boxplot(x=df['talk_time'])"
      ],
      "execution_count": null,
      "outputs": []
    },
    {
      "cell_type": "markdown",
      "metadata": {
        "id": "76ky7R9ZQm2_"
      },
      "source": [
        "Melihat ada tidaknya outliers dengan IQR Method dan menggunakan boxplot untuk visualisasi pada variabel talk_time."
      ]
    },
    {
      "cell_type": "code",
      "metadata": {
        "id": "ySR4qx5QQorU"
      },
      "source": [
        "sns.boxplot(x=df['three_g'])"
      ],
      "execution_count": null,
      "outputs": []
    },
    {
      "cell_type": "markdown",
      "metadata": {
        "id": "lhZ1XKtIQpNs"
      },
      "source": [
        "Melihat ada tidaknya outliers dengan IQR Method dan menggunakan boxplot untuk visualisasi pada variabel three_g."
      ]
    },
    {
      "cell_type": "code",
      "metadata": {
        "id": "6eNmZrLpQqc8"
      },
      "source": [
        "sns.boxplot(x=df['touch_screen'])"
      ],
      "execution_count": null,
      "outputs": []
    },
    {
      "cell_type": "markdown",
      "metadata": {
        "id": "ejgSz9pLQrfu"
      },
      "source": [
        "Melihat ada tidaknya outliers dengan IQR Method dan menggunakan boxplot untuk visualisasi pada variabel touch_screen."
      ]
    },
    {
      "cell_type": "code",
      "metadata": {
        "id": "EjVaNyFmQuFn"
      },
      "source": [
        "sns.boxplot(x=df['wifi'])"
      ],
      "execution_count": null,
      "outputs": []
    },
    {
      "cell_type": "markdown",
      "metadata": {
        "id": "5CqJv58mQvmK"
      },
      "source": [
        "Melihat ada tidaknya outliers dengan IQR Method dan menggunakan boxplot untuk visualisasi pada variabel wifi."
      ]
    },
    {
      "cell_type": "code",
      "metadata": {
        "id": "i4Rk2DPvRIPU"
      },
      "source": [
        "# Proses drop outliers\n",
        "Q1 = df.quantile(0.25)\n",
        "Q3 = df.quantile(0.75)\n",
        "IQR=Q3-Q1\n",
        "df=df[~((df<(Q1-1.5*IQR))|(df>(Q3+1.5*IQR))).any(axis=1)]\n",
        " \n",
        "# Cek ukuran dataset setelah outliers didrop\n",
        "df.shape"
      ],
      "execution_count": null,
      "outputs": []
    },
    {
      "cell_type": "markdown",
      "metadata": {
        "id": "PX46r2TMRIoN"
      },
      "source": [
        "Melakukan drop outliers. Terdapat 1368 sampel setelah melakukan drop pada sampel yang memiliki outliers."
      ]
    },
    {
      "cell_type": "markdown",
      "metadata": {
        "id": "VyjE9n09Rf-O"
      },
      "source": [
        "### Visualisasi Data\n",
        "Visualisasi yang digunakan adalah berupa histogram pada masing-masing Kolom pada dataset"
      ]
    },
    {
      "cell_type": "code",
      "metadata": {
        "id": "J4UVAU_URiCo"
      },
      "source": [
        "# Melakukan proses analisis data dengan teknik Univariate EDA\n",
        "import matplotlib.pyplot as plt\n",
        "%matplotlib inline\n",
        "\n",
        "df.hist(bins=50, figsize=(20,15))\n",
        "plt.show()"
      ],
      "execution_count": null,
      "outputs": []
    },
    {
      "cell_type": "code",
      "metadata": {
        "id": "ApVYvnQyRu1W"
      },
      "source": [
        "l_three = (df.price_range==3).sum()\n",
        "l_two = (df.price_range==2).sum()\n",
        "\n",
        "print(l_three)\n",
        "print(l_two)"
      ],
      "execution_count": null,
      "outputs": []
    },
    {
      "cell_type": "markdown",
      "metadata": {
        "id": "C2vymxRGRxCx"
      },
      "source": [
        "Dari histogram di atas, terdapat informasi bahwasanya pada tiap label/target price_range jumlahnya tidak berbeda secara signifikan, dengan kata lain, hal tersebut bisa dikatakan proporsional. Jumlah tertinggi ada pada target 3 (biaya sangat tinggi)."
      ]
    }
  ]
}