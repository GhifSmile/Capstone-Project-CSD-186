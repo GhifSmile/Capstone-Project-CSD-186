{
  "nbformat": 4,
  "nbformat_minor": 0,
  "metadata": {
    "colab": {
      "name": "model-klasifikasi-fixxx.ipynb",
      "private_outputs": true,
      "provenance": [],
      "collapsed_sections": [
        "aqo2s0F3cUaF",
        "3AyevaaWeVAN",
        "ZP1_slLFerRD",
        "d1-86ga_26y8",
        "EjjX-EQ_Gj7W",
        "5wfLPj6ZkgR9",
        "_AnDnxbIkwyl",
        "YFEcEIXjlVLb",
        "9lxMu3_ImGB-",
        "8575T7b52aAR",
        "hImIiEKb3ycR"
      ]
    },
    "kernelspec": {
      "name": "python3",
      "display_name": "Python 3"
    },
    "language_info": {
      "name": "python"
    },
    "accelerator": "GPU"
  },
  "cells": [
    {
      "cell_type": "markdown",
      "source": [
        "### Import Library Dependencies"
      ],
      "metadata": {
        "id": "RhSgJ_fSdFwQ"
      }
    },
    {
      "cell_type": "code",
      "source": [
        "import zipfile\n",
        "import pandas as pd\n",
        "import seaborn as sns\n",
        "import numpy as np\n",
        "import matplotlib.pyplot as plt\n",
        "from sklearn.model_selection import train_test_split\n",
        "from sklearn.preprocessing import MinMaxScaler\n",
        "from sklearn.metrics import classification_report\n",
        "from sklearn.metrics import confusion_matrix\n",
        "from sklearn.metrics import accuracy_score\n",
        "from sklearn import metrics\n",
        "from sklearn import preprocessing\n",
        "from sklearn.svm import SVC\n",
        "\n",
        "# Import library Model\n",
        "from sklearn.neighbors import KNeighborsClassifier\n",
        "\n",
        "from sklearn.neighbors import NearestNeighbors\n",
        "from sklearn.metrics.pairwise import cosine_similarity"
      ],
      "metadata": {
        "id": "HR-lNNwsdFSv"
      },
      "execution_count": null,
      "outputs": []
    },
    {
      "cell_type": "markdown",
      "source": [
        "# Model Klasifikasi Pertama"
      ],
      "metadata": {
        "id": "twM4uMZps_Hw"
      }
    },
    {
      "cell_type": "markdown",
      "source": [
        "## Data Loading\n",
        "\n",
        "Mendownload dataset berupa csv file melalui repository github\n",
        "\n",
        "Dataset yang digunakan berupa informasi mengenai estimasi kelompok harga dari beberapa smartphone atau mobile devices berdasarkan spesifikasi yang dimiliki perangkat tersebut, seperti RAM, ROM, dan lainnya. Dataset diperoleh melalui proses scraping dari database mobile phone. Dataset:\n",
        "[Mobile Price Classification](https://github.com/danielrymeds/dataset1/files/7698891/smartphone_specs.csv) "
      ],
      "metadata": {
        "id": "R-QXULRscWE2"
      }
    },
    {
      "cell_type": "markdown",
      "source": [
        "### Mendownload dan menyiapkan dataset"
      ],
      "metadata": {
        "id": "aqo2s0F3cUaF"
      }
    },
    {
      "cell_type": "code",
      "source": [
        " !wget --no-check-certificate \\\n",
        "  https://github.com/danielrymeds/dataset1/files/7712532/mobile-price-classification.zip \\"
      ],
      "metadata": {
        "id": "ldBN1h-gwZxm"
      },
      "execution_count": null,
      "outputs": []
    },
    {
      "cell_type": "code",
      "source": [
        "!wget --no-check-certificate \\\n",
        "  https://github.com/danielrymeds/dataset1/files/7712533/smartphone_specs.csv \\"
      ],
      "metadata": {
        "id": "saoDnMXbbp55"
      },
      "execution_count": null,
      "outputs": []
    },
    {
      "cell_type": "markdown",
      "source": [
        "Mengekstrak zip file dari dataset mobile price"
      ],
      "metadata": {
        "id": "boFq_DDkc8NZ"
      }
    },
    {
      "cell_type": "code",
      "source": [
        "local_zip = '/content/mobile-price-classification.zip'\n",
        "zip_ref = zipfile.ZipFile(local_zip, 'r')\n",
        "zip_ref.extractall('/content')\n",
        "zip_ref.close()"
      ],
      "metadata": {
        "id": "EO-rgL3qwbTm"
      },
      "execution_count": null,
      "outputs": []
    },
    {
      "cell_type": "markdown",
      "source": [
        "Mengubah dataset menjadi dataframe"
      ],
      "metadata": {
        "id": "YT_NoWaTdYEN"
      }
    },
    {
      "cell_type": "code",
      "source": [
        "df = pd.read_csv('/content/train.csv')\n",
        "df.head()"
      ],
      "metadata": {
        "id": "ReyYnJUvwdz_"
      },
      "execution_count": null,
      "outputs": []
    },
    {
      "cell_type": "markdown",
      "source": [
        "## Data Understanding\n",
        "\n",
        "Melihat informasi dataset secara keseluruhan dan juga secara statistik"
      ],
      "metadata": {
        "id": "yjMrCGDgdo04"
      }
    },
    {
      "cell_type": "code",
      "source": [
        "df.info()"
      ],
      "metadata": {
        "id": "USJvE3E-xDge"
      },
      "execution_count": null,
      "outputs": []
    },
    {
      "cell_type": "code",
      "source": [
        "df.describe()"
      ],
      "metadata": {
        "id": "7SdAAuK2xICd"
      },
      "execution_count": null,
      "outputs": []
    },
    {
      "cell_type": "markdown",
      "source": [
        "Melihat missing values pada dataframe"
      ],
      "metadata": {
        "id": "XImvCicYeCUd"
      }
    },
    {
      "cell_type": "code",
      "source": [
        "df.isnull().sum()"
      ],
      "metadata": {
        "id": "oSkpUYjexWCv"
      },
      "execution_count": null,
      "outputs": []
    },
    {
      "cell_type": "markdown",
      "source": [
        "Memeriksa rasionalitas beberapa variabel"
      ],
      "metadata": {
        "id": "k4yVpVXKeO_S"
      }
    },
    {
      "cell_type": "code",
      "source": [
        "px_h = (df.px_height==0).sum()\n",
        "px_w = (df.px_width==0).sum()\n",
        "sc_h = (df.sc_h==0).sum()\n",
        "sc_w = (df.sc_w==0).sum()"
      ],
      "metadata": {
        "id": "_57_0HUlxXQe"
      },
      "execution_count": null,
      "outputs": []
    },
    {
      "cell_type": "code",
      "source": [
        "print(px_h)\n",
        "print(px_w)\n",
        "print(sc_h)\n",
        "print(sc_w)"
      ],
      "metadata": {
        "id": "NR2xIqRYxZoV"
      },
      "execution_count": null,
      "outputs": []
    },
    {
      "cell_type": "markdown",
      "source": [
        "Menghapus nilai yang tidak rasional pada variabel"
      ],
      "metadata": {
        "id": "c4vXZfHKeRHA"
      }
    },
    {
      "cell_type": "code",
      "source": [
        "df = df.loc[(df[['px_height','sc_w']]!=0).all(axis=1)]\n",
        "df.shape"
      ],
      "metadata": {
        "id": "3yTuil7mxb5V"
      },
      "execution_count": null,
      "outputs": []
    },
    {
      "cell_type": "markdown",
      "source": [
        "### Outliers\n",
        "\n",
        "Melakukan drop outliers pada data"
      ],
      "metadata": {
        "id": "3AyevaaWeVAN"
      }
    },
    {
      "cell_type": "code",
      "source": [
        "Q1 = df.quantile(0.25)\n",
        "Q3 = df.quantile(0.75)\n",
        "IQR=Q3-Q1\n",
        "df=df[~((df<(Q1-1.5*IQR))|(df>(Q3+1.5*IQR))).any(axis=1)]\n",
        " \n",
        "# Cek ukuran dataset setelah outliers didrop\n",
        "df.shape"
      ],
      "metadata": {
        "id": "wTrIDrirxdxN"
      },
      "execution_count": null,
      "outputs": []
    },
    {
      "cell_type": "markdown",
      "source": [
        "### Visualisasi Data\n",
        "\n",
        "Melakukan proses analisis data dengan teknik Univariate EDA"
      ],
      "metadata": {
        "id": "ZP1_slLFerRD"
      }
    },
    {
      "cell_type": "code",
      "source": [
        "%matplotlib inline\n",
        "\n",
        "df.hist(bins=50, figsize=(20,15))\n",
        "plt.show()"
      ],
      "metadata": {
        "id": "RgV5Htc_xjAG"
      },
      "execution_count": null,
      "outputs": []
    },
    {
      "cell_type": "markdown",
      "source": [
        "Membuat dataframe baru yang berisi beberapa kolom data dari dataframe awal, untuk nantinya digabungkan dengan data-data hasil scraping"
      ],
      "metadata": {
        "id": "FFpdfEcJfQ5O"
      }
    },
    {
      "cell_type": "code",
      "source": [
        "df_new = pd.DataFrame()"
      ],
      "metadata": {
        "id": "6QOqArWlxmzm"
      },
      "execution_count": null,
      "outputs": []
    },
    {
      "cell_type": "code",
      "source": [
        "df_new['Weight(g)'] = df['mobile_wt'].copy()\n",
        "df_new['Width(px)'] = df['px_width'].copy()\n",
        "df_new['Height(px)'] = df['px_height'].copy()\n",
        "df_new['ROM(MB)'] = df['int_memory'].copy()\n",
        "df_new['RAM(MB)'] = df['ram'].copy()\n",
        "df_new['Battery Capacity(mAh)'] = df['battery_power'].copy()\n",
        "df_new['Price'] = df['price_range'].copy()"
      ],
      "metadata": {
        "id": "OJvGaqPPyAT1"
      },
      "execution_count": null,
      "outputs": []
    },
    {
      "cell_type": "code",
      "source": [
        "df_new"
      ],
      "metadata": {
        "id": "jKaAPbuxys9-"
      },
      "execution_count": null,
      "outputs": []
    },
    {
      "cell_type": "markdown",
      "source": [
        "### Pengolahan Dataset Scraping"
      ],
      "metadata": {
        "id": "d1-86ga_26y8"
      }
    },
    {
      "cell_type": "markdown",
      "source": [
        "Membuat dataframe tambahan dari file csv dataset hasil scraping"
      ],
      "metadata": {
        "id": "Uo5yratChgKs"
      }
    },
    {
      "cell_type": "code",
      "source": [
        "df_add = pd.read_csv('/content/smartphone_specs.csv')\n",
        "df_add"
      ],
      "metadata": {
        "id": "HJQ-8GtG0JJY"
      },
      "execution_count": null,
      "outputs": []
    },
    {
      "cell_type": "markdown",
      "source": [
        "Mengolah Dataset hasil scraping"
      ],
      "metadata": {
        "id": "dX8IQTqAiNDh"
      }
    },
    {
      "cell_type": "code",
      "source": [
        "df_add = df_add.rename(columns={'Price(USD)': 'Price'})"
      ],
      "metadata": {
        "id": "IBhlNEAfBGXg"
      },
      "execution_count": null,
      "outputs": []
    },
    {
      "cell_type": "code",
      "source": [
        "df_add.isnull().sum()"
      ],
      "metadata": {
        "id": "e65dhnls0buf"
      },
      "execution_count": null,
      "outputs": []
    },
    {
      "cell_type": "code",
      "source": [
        "df_add = df_add.dropna()"
      ],
      "metadata": {
        "id": "fxlt78aZ3ExO"
      },
      "execution_count": null,
      "outputs": []
    },
    {
      "cell_type": "code",
      "source": [
        "df_add.isnull().sum()"
      ],
      "metadata": {
        "id": "zDI3Huz43c53"
      },
      "execution_count": null,
      "outputs": []
    },
    {
      "cell_type": "code",
      "source": [
        "df_add.describe()"
      ],
      "metadata": {
        "id": "kGh88MS83eBG"
      },
      "execution_count": null,
      "outputs": []
    },
    {
      "cell_type": "markdown",
      "source": [
        "Mengambil data dengan nilai weight kurang dari 200g agar hanya termasuk data mobile phone dan bukan data ipad atau tab yang memiliki berat lebih dari 200g"
      ],
      "metadata": {
        "id": "LL_Oby1Xih6Y"
      }
    },
    {
      "cell_type": "code",
      "source": [
        "df_add = df_add.loc[df_add['Weight(g)']<=200]"
      ],
      "metadata": {
        "id": "VkYG0EGk3o5m"
      },
      "execution_count": null,
      "outputs": []
    },
    {
      "cell_type": "code",
      "source": [
        "df_add"
      ],
      "metadata": {
        "id": "nJl174h433D_"
      },
      "execution_count": null,
      "outputs": []
    },
    {
      "cell_type": "markdown",
      "source": [
        "Membagi kolom price menjadi 4 kelas berdasarkan range harga berikut:\n",
        "\n",
        "Price:\n",
        "\n",
        "\n",
        "*   Range 0 = < 100 USD\n",
        "*   Range 1 = 100 - 200 USD\n",
        "*   Range 2 = 200 - 400 USD\n",
        "*   Range 3 = >= 400 USD\n"
      ],
      "metadata": {
        "id": "XZYQ3qlFiyJ4"
      }
    },
    {
      "cell_type": "code",
      "source": [
        "df_add.loc[df_add['Price']<100, 'Price'] = 0\n",
        "df_add.loc[(df_add['Price']>=100) & (df_add['Price']<200), 'Price'] = 1\n",
        "df_add.loc[(df_add['Price']>=200) & (df_add['Price']<400), 'Price'] = 2\n",
        "df_add.loc[df_add['Price']>=400, 'Price'] = 3"
      ],
      "metadata": {
        "id": "zch9G9Pk35Om"
      },
      "execution_count": null,
      "outputs": []
    },
    {
      "cell_type": "code",
      "source": [
        "df_add.describe()"
      ],
      "metadata": {
        "id": "PZ-n0e-g7E2D"
      },
      "execution_count": null,
      "outputs": []
    },
    {
      "cell_type": "code",
      "source": [
        "df_add"
      ],
      "metadata": {
        "id": "QQ14581q5RJJ"
      },
      "execution_count": null,
      "outputs": []
    },
    {
      "cell_type": "code",
      "source": [
        "df_add.Brand.unique()"
      ],
      "metadata": {
        "id": "Zq_l_KOkDZFY"
      },
      "execution_count": null,
      "outputs": []
    },
    {
      "cell_type": "markdown",
      "source": [
        "Hanya mengambil data dengan brand ternama dan pemilik data terbanyak seperti samsung, oppo, vivo, xiaomi, dan realme untuk digabungkan dengan dataset awal"
      ],
      "metadata": {
        "id": "vh-aazr7jiD2"
      }
    },
    {
      "cell_type": "code",
      "source": [
        "samsung = df_add.loc[df_add['Brand']=='samsung']\n",
        "samsung = samsung.drop(columns=['Brand','Model Name','Model Image'])"
      ],
      "metadata": {
        "id": "5hQkVV_0ECRv"
      },
      "execution_count": null,
      "outputs": []
    },
    {
      "cell_type": "code",
      "source": [
        "oppo = df_add.loc[df_add['Brand']=='oppo']\n",
        "oppo = oppo.drop(columns=['Brand','Model Name','Model Image'])"
      ],
      "metadata": {
        "id": "bc_YlcU2EOBx"
      },
      "execution_count": null,
      "outputs": []
    },
    {
      "cell_type": "code",
      "source": [
        "vivo = df_add.loc[df_add['Brand']=='vivo']\n",
        "vivo = vivo.drop(columns=['Brand','Model Name','Model Image'])"
      ],
      "metadata": {
        "id": "O2s5X_SLFWKi"
      },
      "execution_count": null,
      "outputs": []
    },
    {
      "cell_type": "code",
      "source": [
        "xiaomi = df_add.loc[df_add['Brand']=='xiaomi']\n",
        "xiaomi = xiaomi.drop(columns=['Brand','Model Name','Model Image'])"
      ],
      "metadata": {
        "id": "B-IhwAekFe2w"
      },
      "execution_count": null,
      "outputs": []
    },
    {
      "cell_type": "code",
      "source": [
        "realme = df_add.loc[df_add['Brand']=='realme']\n",
        "realme = realme.drop(columns=['Brand','Model Name','Model Image'])"
      ],
      "metadata": {
        "id": "ZT-Ssm0FFyLo"
      },
      "execution_count": null,
      "outputs": []
    },
    {
      "cell_type": "code",
      "source": [
        "print(len(df_new))\n",
        "print(len(samsung))\n",
        "print(len(oppo))\n",
        "print(len(vivo))\n",
        "print(len(xiaomi))\n",
        "print(len(realme))"
      ],
      "metadata": {
        "id": "J0B95hkcG104"
      },
      "execution_count": null,
      "outputs": []
    },
    {
      "cell_type": "markdown",
      "source": [
        "### Menggabungkan kedua dataset"
      ],
      "metadata": {
        "id": "EjjX-EQ_Gj7W"
      }
    },
    {
      "cell_type": "code",
      "source": [
        "df_final = pd.concat([df_new, samsung, vivo, oppo, xiaomi, realme], ignore_index=True, sort=False)"
      ],
      "metadata": {
        "id": "OnEzu_BqGGz_"
      },
      "execution_count": null,
      "outputs": []
    },
    {
      "cell_type": "code",
      "source": [
        "df_final"
      ],
      "metadata": {
        "id": "ygIaSRe6Gf7B"
      },
      "execution_count": null,
      "outputs": []
    },
    {
      "cell_type": "code",
      "source": [
        "df_final.isnull().sum()"
      ],
      "metadata": {
        "id": "ywxrmAHuGmm3"
      },
      "execution_count": null,
      "outputs": []
    },
    {
      "cell_type": "code",
      "source": [
        "df_final.info()"
      ],
      "metadata": {
        "id": "mLkxIOBIGuYo"
      },
      "execution_count": null,
      "outputs": []
    },
    {
      "cell_type": "code",
      "source": [
        "df_final.describe()"
      ],
      "metadata": {
        "id": "UPoQcKxyGxc3"
      },
      "execution_count": null,
      "outputs": []
    },
    {
      "cell_type": "markdown",
      "source": [
        "Menghapus nilai yang tidak rasional pada variabel"
      ],
      "metadata": {
        "id": "3CvG5qfvfKow"
      }
    },
    {
      "cell_type": "code",
      "source": [
        "df_final = df_final.loc[(df_final['Height(px)']!=1)]\n",
        "df_final.shape"
      ],
      "metadata": {
        "id": "epgnnuXCH2mA"
      },
      "execution_count": null,
      "outputs": []
    },
    {
      "cell_type": "code",
      "source": [
        "df_final.describe()"
      ],
      "metadata": {
        "id": "qoCB7aOEnHZQ"
      },
      "execution_count": null,
      "outputs": []
    },
    {
      "cell_type": "code",
      "source": [
        "df_final"
      ],
      "metadata": {
        "id": "fL_2tq77IPXh"
      },
      "execution_count": null,
      "outputs": []
    },
    {
      "cell_type": "markdown",
      "source": [
        "### Pengolahan Outliers dataframe final"
      ],
      "metadata": {
        "id": "5wfLPj6ZkgR9"
      }
    },
    {
      "cell_type": "code",
      "source": [
        "sns.boxplot(x=df_final['Weight(g)'])"
      ],
      "metadata": {
        "id": "oSVHhQBBITJo"
      },
      "execution_count": null,
      "outputs": []
    },
    {
      "cell_type": "code",
      "source": [
        "sns.boxplot(x=df_final['Width(px)'])"
      ],
      "metadata": {
        "id": "s_sy7UBrIecp"
      },
      "execution_count": null,
      "outputs": []
    },
    {
      "cell_type": "code",
      "source": [
        "sns.boxplot(x=df_final['Height(px)'])"
      ],
      "metadata": {
        "id": "Y8lMaYjLIh2Y"
      },
      "execution_count": null,
      "outputs": []
    },
    {
      "cell_type": "code",
      "source": [
        "sns.boxplot(x=df_final['ROM(MB)'])"
      ],
      "metadata": {
        "id": "q0vTu0biIuT5"
      },
      "execution_count": null,
      "outputs": []
    },
    {
      "cell_type": "code",
      "source": [
        "sns.boxplot(x=df_final['RAM(MB)'])"
      ],
      "metadata": {
        "id": "MCioHKyeIx-Q"
      },
      "execution_count": null,
      "outputs": []
    },
    {
      "cell_type": "code",
      "source": [
        "sns.boxplot(x=df_final['Battery Capacity(mAh)'])"
      ],
      "metadata": {
        "id": "nrBfy9BnI1kZ"
      },
      "execution_count": null,
      "outputs": []
    },
    {
      "cell_type": "code",
      "source": [
        "# Proses drop outliers\n",
        "Q1 = df_final.quantile(0.25)\n",
        "Q3 = df_final.quantile(0.75)\n",
        "IQR=Q3-Q1\n",
        "df_final=df_final[~((df_final<(Q1-1.5*IQR))|(df_final>(Q3+1.5*IQR))).any(axis=1)]\n",
        " \n",
        "# Cek ukuran dataset setelah outliers didrop\n",
        "df_final.shape"
      ],
      "metadata": {
        "id": "ylhoUMsQJJ9w"
      },
      "execution_count": null,
      "outputs": []
    },
    {
      "cell_type": "markdown",
      "source": [
        "Visualisasi dataframe final"
      ],
      "metadata": {
        "id": "jc9qUezfkpNn"
      }
    },
    {
      "cell_type": "code",
      "source": [
        "%matplotlib inline\n",
        "\n",
        "df_final.hist(bins=50, figsize=(20,15))\n",
        "plt.show()"
      ],
      "metadata": {
        "id": "NQF_cKJKJYmz"
      },
      "execution_count": null,
      "outputs": []
    },
    {
      "cell_type": "code",
      "source": [
        "list(df_final.columns.values[:6])"
      ],
      "metadata": {
        "id": "RL-nj940JwoQ"
      },
      "execution_count": null,
      "outputs": []
    },
    {
      "cell_type": "markdown",
      "source": [
        "### Correlation Matrix\n",
        "\n",
        "Melihat korelasi antar data pada keseluruhan dataset"
      ],
      "metadata": {
        "id": "_AnDnxbIkwyl"
      }
    },
    {
      "cell_type": "code",
      "source": [
        "plt.figure(figsize=(10, 8))\n",
        "correlation_matrix = df_final.corr().round(2)\n",
        "\n",
        "sns.heatmap(data=correlation_matrix, annot=True, cmap='coolwarm', linewidths=0.5, )\n",
        "plt.title(\"Correlation Matrix untuk Fitur Numerik \", size=20)"
      ],
      "metadata": {
        "id": "8NG2DCdHWUxb"
      },
      "execution_count": null,
      "outputs": []
    },
    {
      "cell_type": "markdown",
      "source": [
        "## Data Preparation"
      ],
      "metadata": {
        "id": "oXpnpUUMlBgW"
      }
    },
    {
      "cell_type": "markdown",
      "source": [
        "### Train-Test Split\n",
        "\n",
        "Membagi data menjadi train dan test set dengan ratio 80:20"
      ],
      "metadata": {
        "id": "YFEcEIXjlVLb"
      }
    },
    {
      "cell_type": "code",
      "source": [
        "y = df_final['Price'] \n",
        "\n",
        "li = list(df_final.columns.values[:6])\n",
        "X = df_final[li]\n",
        "# Split dataset menjadi train dan test\n",
        "X_train, X_test, y_train, y_test = train_test_split(X, y, test_size=0.2, random_state=123)"
      ],
      "metadata": {
        "id": "sRapD4iVKPpQ"
      },
      "execution_count": null,
      "outputs": []
    },
    {
      "cell_type": "code",
      "source": [
        "print(X_test.shape)\n",
        "print(X_train.shape)"
      ],
      "metadata": {
        "id": "iVo6n56YKjxI"
      },
      "execution_count": null,
      "outputs": []
    },
    {
      "cell_type": "code",
      "source": [
        "X"
      ],
      "metadata": {
        "id": "v4jLg0Htl9d-"
      },
      "execution_count": null,
      "outputs": []
    },
    {
      "cell_type": "code",
      "source": [
        "y"
      ],
      "metadata": {
        "id": "ZRnbXRTol-ik"
      },
      "execution_count": null,
      "outputs": []
    },
    {
      "cell_type": "markdown",
      "source": [
        "## Modeling\n",
        "\n",
        "Pada proyek ini digunakan model KNN, dikarenakan setelah ditelusuri, algoritma yang menghasilkan nilai akurasi terbaik adalah model KNN"
      ],
      "metadata": {
        "id": "9lxMu3_ImGB-"
      }
    },
    {
      "cell_type": "code",
      "source": [
        "# Model KNN\n",
        "knn = KNeighborsClassifier(n_neighbors=9)\n",
        "\n",
        "knn.fit(X_train, y_train)\n",
        "\n",
        "y_pred_knn = knn.predict(X_test)\n",
        "\n",
        "a_KNN = metrics.accuracy_score(y_test, y_pred_knn)\n",
        "print(\"Accuracy:\",a_KNN)"
      ],
      "metadata": {
        "id": "J-Zl2PYLtc-I"
      },
      "execution_count": null,
      "outputs": []
    },
    {
      "cell_type": "markdown",
      "source": [
        "Menampilkan metrik presisi, recall, dan juga f1 score dari hasil prediksi model KNN"
      ],
      "metadata": {
        "id": "D73xkk-fmarF"
      }
    },
    {
      "cell_type": "code",
      "source": [
        "print(classification_report(y_test, y_pred_knn))"
      ],
      "metadata": {
        "id": "IPDZnErRTlyn"
      },
      "execution_count": null,
      "outputs": []
    },
    {
      "cell_type": "markdown",
      "source": [
        "## Data Testing\n",
        "\n",
        "Melakukan data testing dengan menggunakan data inputan dari user dan menghasilkan nilai kelompok harga yang sesuai dengan harga di pasaran (USD) dan juga pada dataset"
      ],
      "metadata": {
        "id": "SUsGKyeGmjzn"
      }
    },
    {
      "cell_type": "markdown",
      "source": [
        "Nilai inputan dari user akan disimpan beserta dengan hasil prediksinya, yang kemudian akan digunakan pada model klasifikasi selanjutnya untuk mendapatkan model mobile phone yang sesuai dengan spesifikasi yang user mau."
      ],
      "metadata": {
        "id": "Wgx0-zajnZ6z"
      }
    },
    {
      "cell_type": "code",
      "source": [
        "user_input = input()\n",
        "prediction = knn.predict(np.array([[int(i) for i in user_input.split()]]))"
      ],
      "metadata": {
        "id": "bhyrg_F_UsJW"
      },
      "execution_count": null,
      "outputs": []
    },
    {
      "cell_type": "code",
      "source": [
        "user_input1 = np.array([int(i) for i in user_input.split()])"
      ],
      "metadata": {
        "id": "SFRoIWMGn3MX"
      },
      "execution_count": null,
      "outputs": []
    },
    {
      "cell_type": "code",
      "source": [
        "user_input1"
      ],
      "metadata": {
        "id": "k9MVsWG7qynC"
      },
      "execution_count": null,
      "outputs": []
    },
    {
      "cell_type": "code",
      "source": [
        "prediction[0]"
      ],
      "metadata": {
        "id": "mHeMU_26n4bT"
      },
      "execution_count": null,
      "outputs": []
    },
    {
      "cell_type": "markdown",
      "source": [
        "# Model Rekomendasi"
      ],
      "metadata": {
        "id": "ZGdGO2TatCGm"
      }
    },
    {
      "cell_type": "markdown",
      "source": [
        "## Data Loading"
      ],
      "metadata": {
        "id": "Jad90_RRtcdx"
      }
    },
    {
      "cell_type": "markdown",
      "source": [
        "Menampilkan Mobile phone yang memiliki kelas harga sesuai prediksi"
      ],
      "metadata": {
        "id": "V5PCAERjtZmc"
      }
    },
    {
      "cell_type": "code",
      "source": [
        "samsung1 = df_add.loc[df_add['Brand']=='samsung']\n",
        "oppo1 = df_add.loc[df_add['Brand']=='oppo']\n",
        "vivo1 = df_add.loc[df_add['Brand']=='vivo']\n",
        "xiaomi1 = df_add.loc[df_add['Brand']=='xiaomi']\n",
        "realme1 = df_add.loc[df_add['Brand']=='realme']"
      ],
      "metadata": {
        "id": "ZargT7aUuOeP"
      },
      "execution_count": null,
      "outputs": []
    },
    {
      "cell_type": "code",
      "source": [
        "df_rec = pd.concat([samsung1, vivo1, oppo1, xiaomi1, realme1], ignore_index=True, sort=False)\n",
        "df_rec"
      ],
      "metadata": {
        "id": "aKldEwrpuG3d"
      },
      "execution_count": null,
      "outputs": []
    },
    {
      "cell_type": "code",
      "source": [
        "df_pred = df_rec[df_rec['Price'] == prediction[0]]\n",
        "df_pred"
      ],
      "metadata": {
        "id": "jaaOjFyTtY1X"
      },
      "execution_count": null,
      "outputs": []
    },
    {
      "cell_type": "markdown",
      "source": [
        "Meminta input user berdasarkan brand mobile phone"
      ],
      "metadata": {
        "id": "hWH01b-9u6bt"
      }
    },
    {
      "cell_type": "code",
      "source": [
        "brand_input = input()\n",
        "df_pred1 = df_pred[df_pred['Brand'] == brand_input]\n",
        "df_pred1"
      ],
      "metadata": {
        "id": "1C42UYflu9va"
      },
      "execution_count": null,
      "outputs": []
    },
    {
      "cell_type": "markdown",
      "source": [
        "Membuat dataframe baru dengan satu baris yang berisi data inputan user"
      ],
      "metadata": {
        "id": "C0Wn4WfB8Cvg"
      }
    },
    {
      "cell_type": "code",
      "source": [
        "input_data = [['Input', 'Input', np.nan, user_input1[0], user_input1[1], user_input1[2], user_input1[3], user_input1[4], user_input1[4], prediction[0]]]\n",
        "input_row = pd.DataFrame(input_data, columns=['Brand','Model Name','Model Image', 'Weight(g)', 'Width(px)', 'Height(px)', 'ROM(MB)', 'RAM(MB)', 'Battery Capacity(mAh)', 'Price'])\n",
        "input_row.index = [700]\n",
        "input_row"
      ],
      "metadata": {
        "id": "174d5Vif4QBI"
      },
      "execution_count": null,
      "outputs": []
    },
    {
      "cell_type": "markdown",
      "source": [
        "Menggabungkan dataframe input user dengan dataframe rekomendasi"
      ],
      "metadata": {
        "id": "YHzc17LR8G0f"
      }
    },
    {
      "cell_type": "code",
      "source": [
        "df_pred2 = pd.concat([df_pred1, input_row], ignore_index=False, sort=False)\n",
        "df_pred2"
      ],
      "metadata": {
        "id": "vVBNx0eh7dET"
      },
      "execution_count": null,
      "outputs": []
    },
    {
      "cell_type": "code",
      "source": [
        "model_name = pd.DataFrame({'Model Name':df_pred2.index})\n",
        "model_name"
      ],
      "metadata": {
        "id": "cTxzRami47mu"
      },
      "execution_count": null,
      "outputs": []
    },
    {
      "cell_type": "markdown",
      "source": [
        "## Data Preparation"
      ],
      "metadata": {
        "id": "TcrV-nCdvq9m"
      }
    },
    {
      "cell_type": "markdown",
      "source": [
        "### Numerical Scaling\n",
        "\n",
        "Melakukan scaling pada data-data numerik seperti pada kolom Weight(g),\tWidth(px),\tHeight(px),\tROM(MB),\tRAM(MB), dan Battery Capacity(mAh). Metode ini digunakan untuk menormalkan jangkauan variabel independen atau fitur data. Dalam pemrosesan data, ini juga dikenal sebagai normalisasi data."
      ],
      "metadata": {
        "id": "8575T7b52aAR"
      }
    },
    {
      "cell_type": "code",
      "source": [
        "numerical_features = ['Weight(g)', 'Width(px)', 'Height(px)', 'ROM(MB)', 'RAM(MB)', 'Battery Capacity(mAh)']\n",
        "scaler = MinMaxScaler()\n",
        "scaler.fit(df_pred2[numerical_features])"
      ],
      "metadata": {
        "id": "nIQcdQQR2v3C"
      },
      "execution_count": null,
      "outputs": []
    },
    {
      "cell_type": "code",
      "source": [
        "df_pred3 = df_pred2.copy()\n",
        "df_pred3[numerical_features] = scaler.transform(df_pred3.loc[:, numerical_features])\n",
        "df_pred3[numerical_features]"
      ],
      "metadata": {
        "id": "vWYuixYQ3bqO"
      },
      "execution_count": null,
      "outputs": []
    },
    {
      "cell_type": "code",
      "source": [
        "df_pred3"
      ],
      "metadata": {
        "id": "lhtPuYrE3rOJ"
      },
      "execution_count": null,
      "outputs": []
    },
    {
      "cell_type": "markdown",
      "source": [
        "## Modeling\n",
        "\n",
        "Persiapan data yang akan dimodelkan dengan cara drop kolom yang tidak diperlukan"
      ],
      "metadata": {
        "id": "hImIiEKb3ycR"
      }
    },
    {
      "cell_type": "code",
      "source": [
        "df_model = df_pred3.drop([\"Brand\"],axis = 1)"
      ],
      "metadata": {
        "id": "esSwDPQE3-I_"
      },
      "execution_count": null,
      "outputs": []
    },
    {
      "cell_type": "code",
      "source": [
        "df_model = df_model.drop([\"Model Name\"],axis = 1)\n",
        "df_model = df_model.drop([\"Model Image\"],axis = 1)\n",
        "df_model = df_model.drop([\"Price\"],axis = 1)\n",
        "df_model"
      ],
      "metadata": {
        "id": "o2c6g3VK4KQD"
      },
      "execution_count": null,
      "outputs": []
    },
    {
      "cell_type": "markdown",
      "source": [
        "Menggunakan model Nearest neighbor untuk sistem rekomendasi"
      ],
      "metadata": {
        "id": "EtizC0395Nxf"
      }
    },
    {
      "cell_type": "code",
      "source": [
        "model = NearestNeighbors(metric='euclidean')\n",
        "model.fit(df_model)"
      ],
      "metadata": {
        "id": "Kl91oBOx5SbN"
      },
      "execution_count": null,
      "outputs": []
    },
    {
      "cell_type": "markdown",
      "source": [
        "Membuat model dan fungsi yang bertujuan untuk memberikan rekomendasi aplikasi dari contoh aplikasi yang diinputkan."
      ],
      "metadata": {
        "id": "WULuETuQ5aXq"
      }
    },
    {
      "cell_type": "code",
      "source": [
        "def getRecommendedPhone(modelname,recommend_phone=3,get_similarity=False):\n",
        "    # Memberikan banyaknya rekomendasi mobile phone sesuai dengan nilai banyaknya 'recommend_phone'\n",
        "    distances,neighbors = model.kneighbors(df_model.loc[modelname],n_neighbors=recommend_phone+1)\n",
        "    print(f'Similar Phone for \"{modelname[0]}:\"')\n",
        "    # Menampilkan nama model phone yang memiliki jarak terdekat dari mobile phone yang diinputkan user\n",
        "    print(neighbors[0][1:])\n",
        "    similar_phone = []\n",
        "    for neighbor in neighbors[0][1:]:\n",
        "        similar_phone.append(model_name.loc[neighbor][0])\n",
        "    if not get_similarity:\n",
        "        return similar_phone\n",
        "    # Menerapkan nilai similarity dari seluruh mobile phone serupa yang telah melewati proses NearestNeighbors dengan cosine similarity dan mengalikannya dengan 100 agar nilainya berupa persentase\n",
        "    similarity = []\n",
        "    for phone in similar_phone:\n",
        "        sim = cosine_similarity(df_model.loc[[modelname[0]]],df_model.loc[[phone]]).flatten()[0]\n",
        "        similarity.append(sim*100)\n",
        "    # Membuat dataframe baru yang berisi mobile phone yang direkomendasikan\n",
        "    similar_df = pd.DataFrame({'Model':similar_phone,'Similarity':similarity})\n",
        "    similar_df.sort_values(by='Similarity',ascending=False)\n",
        "    return similar_df"
      ],
      "metadata": {
        "id": "Dc9T2PJB5b6r"
      },
      "execution_count": null,
      "outputs": []
    },
    {
      "cell_type": "markdown",
      "source": [
        "## Model Testing"
      ],
      "metadata": {
        "id": "p7Ae8Tv17qof"
      }
    },
    {
      "cell_type": "markdown",
      "source": [
        "Menampilkan 3 nama model mobile phone yang terdekat dengan inputan user (700)"
      ],
      "metadata": {
        "id": "rgDvIhloDbch"
      }
    },
    {
      "cell_type": "code",
      "source": [
        "recommendation = getRecommendedPhone(model_name.iloc[-1],get_similarity=True)\n",
        "recommendation"
      ],
      "metadata": {
        "id": "A9DQJzIa7r9f"
      },
      "execution_count": null,
      "outputs": []
    },
    {
      "cell_type": "markdown",
      "source": [
        "Menampilkan Nama model mobile phone yang di rekomendasikan"
      ],
      "metadata": {
        "id": "ibEN6ThU9i1h"
      }
    },
    {
      "cell_type": "code",
      "source": [
        "index = 0\n",
        "for row in recommendation['Model']:\n",
        "  if recommendation['Similarity'][index] > 50:\n",
        "    print(df_pred2['Model Name'][row])\n",
        "  else:\n",
        "    print('Hasil tidak mendekati spesifikasi anda')\n",
        "  index = index + 1"
      ],
      "metadata": {
        "id": "rvlZBz6m-DUg"
      },
      "execution_count": null,
      "outputs": []
    }
  ]
}